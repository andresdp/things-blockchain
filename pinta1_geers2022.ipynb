{
  "nbformat": 4,
  "nbformat_minor": 0,
  "metadata": {
    "colab": {
      "name": "pinta1-geers2022.ipynb",
      "provenance": [],
      "authorship_tag": "ABX9TyOFCA9dDEaZrP0pYZ/9xd1B",
      "include_colab_link": true
    },
    "kernelspec": {
      "name": "python3",
      "display_name": "Python 3"
    },
    "language_info": {
      "name": "python"
    }
  },
  "cells": [
    {
      "cell_type": "markdown",
      "metadata": {
        "id": "view-in-github",
        "colab_type": "text"
      },
      "source": [
        "<a href=\"https://colab.research.google.com/github/andresdp/things-blockchain/blob/main/pinta1_geers2022.ipynb\" target=\"_parent\"><img src=\"https://colab.research.google.com/assets/colab-badge.svg\" alt=\"Open In Colab\"/></a>"
      ]
    },
    {
      "cell_type": "markdown",
      "source": [
        "# **GEERS 2022 - Pinta #1**"
      ],
      "metadata": {
        "id": "vvS3XfYVW764"
      }
    },
    {
      "cell_type": "markdown",
      "source": [
        "---\n",
        "### **Hashing**"
      ],
      "metadata": {
        "id": "aBA1cbYpW16p"
      }
    },
    {
      "cell_type": "code",
      "source": [
        "from hashlib import sha256\n",
        "\n",
        "s = input(\"Type anything:\")\n",
        "hash = sha256(s.encode('utf-8')).hexdigest()\n",
        "print(\"The hash for:\",s,\"is:\", hash)"
      ],
      "metadata": {
        "colab": {
          "base_uri": "https://localhost:8080/"
        },
        "id": "MMirxDC0Wz4o",
        "outputId": "c8d20494-12a8-41fa-b1a9-05f874296d71"
      },
      "execution_count": 2,
      "outputs": [
        {
          "output_type": "stream",
          "name": "stdout",
          "text": [
            "Type anything:test\n",
            "The hash for: test is: 9f86d081884c7d659a2feaa0c55ad015a3bf4f1b2b0b822cd15d6c15b0f00a08\n"
          ]
        }
      ]
    },
    {
      "cell_type": "markdown",
      "source": [
        "---\n",
        "### **Proof of Work**\n",
        "\n"
      ],
      "metadata": {
        "id": "d3-HSOPj1Q51"
      }
    },
    {
      "cell_type": "code",
      "source": [
        "import random\n",
        "from timeit import default_timer as timer\n",
        "  \n",
        "# It implements the proof of work for a given input\n",
        "# The difficulty level is taken as a configuration parameter\n",
        "def proof_of_work(input, difficulty=3):\n",
        "  print(\"Doing proof of work for:\",input, \"( difficulty:\",difficulty,\")\")\n",
        "  start = timer()\n",
        "  header = '0'*difficulty\n",
        "  nonce = random.random()\n",
        "  #print(header)\n",
        "  while True:\n",
        "    nonce += 1\n",
        "    s = input + str(nonce)\n",
        "    guess_hash = sha256(s.encode('utf-8')).hexdigest()\n",
        "    #print(guess_hash)\n",
        "    if guess_hash[:difficulty] == header:\n",
        "      print(\"  \", guess_hash)\n",
        "      end = timer()\n",
        "      print(\"  \", \"elapsed time (secs):\", end - start) # Time in seconds\n",
        "      return nonce # The puzzle was solved!"
      ],
      "metadata": {
        "id": "psVE-kP51N0C"
      },
      "execution_count": 13,
      "outputs": []
    },
    {
      "cell_type": "code",
      "source": [
        "my_input = \"Geers is awesome\"\n",
        "nonce = proof_of_work(my_input)\n",
        "nonce"
      ],
      "metadata": {
        "colab": {
          "base_uri": "https://localhost:8080/"
        },
        "id": "jok0V2Lr2kvA",
        "outputId": "e6745aa9-5957-4fc5-b33d-32d5eeb3d677"
      },
      "execution_count": 14,
      "outputs": [
        {
          "output_type": "stream",
          "name": "stdout",
          "text": [
            "Doing proof of work for: Geers is awesome ( difficulty: 3 )\n",
            "   000961b9b3828c7794bba92041a7444b19c0f919fe6ee220e9d55d6abee7e79c\n",
            "   elapsed time (secs): 0.005060113000126876\n"
          ]
        },
        {
          "output_type": "execute_result",
          "data": {
            "text/plain": [
              "2223.3332041789668"
            ]
          },
          "metadata": {},
          "execution_count": 14
        }
      ]
    },
    {
      "cell_type": "code",
      "source": [
        "# Verification\n",
        "s = my_input + str(nonce)\n",
        "sha256(s.encode('utf-8')).hexdigest()"
      ],
      "metadata": {
        "colab": {
          "base_uri": "https://localhost:8080/",
          "height": 35
        },
        "id": "S7c8KV1o3EVV",
        "outputId": "3099c670-6c45-420c-9c64-9335d385cc3e"
      },
      "execution_count": 15,
      "outputs": [
        {
          "output_type": "execute_result",
          "data": {
            "text/plain": [
              "'000961b9b3828c7794bba92041a7444b19c0f919fe6ee220e9d55d6abee7e79c'"
            ],
            "application/vnd.google.colaboratory.intrinsic+json": {
              "type": "string"
            }
          },
          "metadata": {},
          "execution_count": 15
        }
      ]
    },
    {
      "cell_type": "code",
      "source": [
        "proof_of_work(\"Geers is awesome\", difficulty=6)"
      ],
      "metadata": {
        "colab": {
          "base_uri": "https://localhost:8080/"
        },
        "id": "rzQslMfH24mw",
        "outputId": "321c23e7-86f4-43e6-ca1d-b0aaea959da5"
      },
      "execution_count": 16,
      "outputs": [
        {
          "output_type": "stream",
          "name": "stdout",
          "text": [
            "Doing proof of work for: Geers is awesome ( difficulty: 6 )\n",
            "   000000cc9745921e449f20b0e2b1cfdc3c5c5453f65d91ec41c5d6590666d905\n",
            "   elapsed time (secs): 121.52318882999998\n"
          ]
        },
        {
          "output_type": "execute_result",
          "data": {
            "text/plain": [
              "57758829.13051548"
            ]
          },
          "metadata": {},
          "execution_count": 16
        }
      ]
    },
    {
      "cell_type": "markdown",
      "source": [
        "---\n",
        "### **Arbol de Merkle**"
      ],
      "metadata": {
        "id": "LTtNoi-a6i9n"
      }
    },
    {
      "cell_type": "code",
      "source": [
        "!pip install pymerkle"
      ],
      "metadata": {
        "colab": {
          "base_uri": "https://localhost:8080/"
        },
        "id": "kScBVxDm7Tc9",
        "outputId": "95cd72ac-ace0-4038-f990-d98918140492"
      },
      "execution_count": 4,
      "outputs": [
        {
          "output_type": "stream",
          "name": "stdout",
          "text": [
            "Looking in indexes: https://pypi.org/simple, https://us-python.pkg.dev/colab-wheels/public/simple/\n",
            "Collecting pymerkle\n",
            "  Downloading pymerkle-3.0.0-py3-none-any.whl (49 kB)\n",
            "\u001b[K     |████████████████████████████████| 49 kB 5.1 MB/s \n",
            "\u001b[?25hInstalling collected packages: pymerkle\n",
            "Successfully installed pymerkle-3.0.0\n"
          ]
        }
      ]
    },
    {
      "cell_type": "code",
      "source": [
        "from pymerkle import MerkleTree\n",
        "\n",
        "tree = MerkleTree()\n",
        "\n",
        "# Populate tree with some records\n",
        "records = [b'foo', b'bar', b'baz', b'qux', b'quux']\n",
        "for data in records:\n",
        "    tree.encrypt(data)\n",
        "print(tree)\n",
        "tree.export('backup.json')"
      ],
      "metadata": {
        "colab": {
          "base_uri": "https://localhost:8080/"
        },
        "id": "HlZTqBuD7kBG",
        "outputId": "edaf97fe-1029-4f62-d161-52199b1d0fc4"
      },
      "execution_count": 37,
      "outputs": [
        {
          "output_type": "stream",
          "name": "stdout",
          "text": [
            "\n",
            " └─a2df9c3b0ca85b3dec24ebb128a05488ed6f20925faf67d1ed7f97025fdbf58c\n",
            "     ├──2552e3cbf21513bf4b7a8134e4e4a2e1cd8857cc7fe8a51a455ec226e5cf1e6c\n",
            "     │    ├──79baf30a8e17b9538bbb00dc43a3ef9471909f5729f52cb5b13bdacab788feae\n",
            "     │    │    ├──1d2039fa7971f4bf01a1c20cb2a3fe7af46865ca9cd9b840c2063df8fec4ff75\n",
            "     │    │    └──485904129bdda5d1b5fbc6bc4a82959ecfb9042db44dc08fe87e360b0a3f2501\n",
            "     │    └──7c674ef08ee554408515fb2c0d4bb5833b3b93fda37dfaaa4db09f929cf34d65\n",
            "     │         ├──b06d695869f105fffa5f68c4b9628d58a1aff469a3c62c8c74ddb2af47b178ef\n",
            "     │         └──5a43bc145b8c045b535615392edfba2bd2c4556dfdb13f968bd0668c042ecb35\n",
            "     └──2e219794e81e9bb22e230e7f40906eecb4cfcc289e1af253d88b23634266c5a2\n",
            "\n"
          ]
        }
      ]
    },
    {
      "cell_type": "code",
      "source": [
        "tree.get_config()"
      ],
      "metadata": {
        "colab": {
          "base_uri": "https://localhost:8080/"
        },
        "id": "YF3QcqyDEADf",
        "outputId": "8a6c802f-7ef5-4f3e-850f-72d6e72fbbe8"
      },
      "execution_count": 47,
      "outputs": [
        {
          "output_type": "execute_result",
          "data": {
            "text/plain": [
              "{'encoding': 'utf_8', 'hash_type': 'sha256', 'security': True}"
            ]
          },
          "metadata": {},
          "execution_count": 47
        }
      ]
    },
    {
      "cell_type": "code",
      "source": [
        "state = tree.get_root_hash()\n",
        "state"
      ],
      "metadata": {
        "colab": {
          "base_uri": "https://localhost:8080/"
        },
        "id": "jwVPFu8nCbPI",
        "outputId": "e76394a8-88c2-498c-c1a8-3af79bd4eb28"
      },
      "execution_count": 38,
      "outputs": [
        {
          "output_type": "execute_result",
          "data": {
            "text/plain": [
              "b'a2df9c3b0ca85b3dec24ebb128a05488ed6f20925faf67d1ed7f97025fdbf58c'"
            ]
          },
          "metadata": {},
          "execution_count": 38
        }
      ]
    },
    {
      "cell_type": "code",
      "source": [
        "from pymerkle.hashing import HashEngine\n",
        "\n",
        "challenge = HashEngine(**tree.get_config()).hash('qux') # Takes a dict and extracts its contents\n",
        "challenge"
      ],
      "metadata": {
        "colab": {
          "base_uri": "https://localhost:8080/"
        },
        "id": "eAdSOIgnBJx7",
        "outputId": "b1cd3f1b-ba9f-4b8e-cfbe-45cf430eabd2"
      },
      "execution_count": 39,
      "outputs": [
        {
          "output_type": "execute_result",
          "data": {
            "text/plain": [
              "b'5a43bc145b8c045b535615392edfba2bd2c4556dfdb13f968bd0668c042ecb35'"
            ]
          },
          "metadata": {},
          "execution_count": 39
        }
      ]
    },
    {
      "cell_type": "code",
      "source": [
        "# Prove and verify encryption of data (i.e., if the challenge is actually part of the tree)\n",
        "proof1 = tree.generate_audit_proof(challenge)\n",
        "proof1.verify()"
      ],
      "metadata": {
        "colab": {
          "base_uri": "https://localhost:8080/"
        },
        "id": "HCjqsL-NqXsu",
        "outputId": "28c4b7b5-96a7-4dcd-decd-f1bfbf700a89"
      },
      "execution_count": 41,
      "outputs": [
        {
          "output_type": "execute_result",
          "data": {
            "text/plain": [
              "True"
            ]
          },
          "metadata": {},
          "execution_count": 41
        }
      ]
    },
    {
      "cell_type": "code",
      "source": [
        "proof1"
      ],
      "metadata": {
        "colab": {
          "base_uri": "https://localhost:8080/"
        },
        "id": "vOWD18bJDdbi",
        "outputId": "285a4611-8ec9-476b-bc20-8e320691d080"
      },
      "execution_count": 42,
      "outputs": [
        {
          "output_type": "execute_result",
          "data": {
            "text/plain": [
              "\n",
              "    ----------------------------------- PROOF ------------------------------------\n",
              "\n",
              "    uuid        : dec939e2-11d6-11ed-bd91-0242ac1c0002\n",
              "\n",
              "    timestamp   : 1659385007 (Mon Aug  1 20:16:47 2022)\n",
              "    provider    : d1ad8bd2-11d6-11ed-bd91-0242ac1c0002\n",
              "\n",
              "    hash-type   : SHA256\n",
              "    encoding    : UTF-8\n",
              "    security    : ACTIVATED\n",
              "\n",
              "    \n",
              "       [0]   +1   79baf30a8e17b9538bbb00dc43a3ef9471909f5729f52cb5b13bdacab788feae\n",
              "       [1]   -1   b06d695869f105fffa5f68c4b9628d58a1aff469a3c62c8c74ddb2af47b178ef\n",
              "       [2]   -1   5a43bc145b8c045b535615392edfba2bd2c4556dfdb13f968bd0668c042ecb35\n",
              "       [3]   -1   2e219794e81e9bb22e230e7f40906eecb4cfcc289e1af253d88b23634266c5a2\n",
              "\n",
              "    offset      : 2\n",
              "\n",
              "    commitment  : a2df9c3b0ca85b3dec24ebb128a05488ed6f20925faf67d1ed7f97025fdbf58c\n",
              "\n",
              "    -------------------------------- END OF PROOF --------------------------------"
            ]
          },
          "metadata": {},
          "execution_count": 42
        }
      ]
    },
    {
      "cell_type": "code",
      "source": [
        "# Save current tree state\n",
        "state = tree.get_root_hash()\n",
        "\n",
        "# Append further leaves\n",
        "for data in [b'corge', b'grault', b'garlpy']:\n",
        "    tree.encrypt(data)"
      ],
      "metadata": {
        "id": "XqA6P4H28CEl"
      },
      "execution_count": 43,
      "outputs": []
    },
    {
      "cell_type": "code",
      "source": [
        "print(tree)"
      ],
      "metadata": {
        "colab": {
          "base_uri": "https://localhost:8080/"
        },
        "id": "8jI6wW0ECwOw",
        "outputId": "e8fc5b3f-8b93-4814-d9ec-d6518c01c59a"
      },
      "execution_count": 44,
      "outputs": [
        {
          "output_type": "stream",
          "name": "stdout",
          "text": [
            "\n",
            " └─e45204e846a110051b8848afa80d195317c25554358c5d4e2e1363993dd8537b\n",
            "     ├──2552e3cbf21513bf4b7a8134e4e4a2e1cd8857cc7fe8a51a455ec226e5cf1e6c\n",
            "     │    ├──79baf30a8e17b9538bbb00dc43a3ef9471909f5729f52cb5b13bdacab788feae\n",
            "     │    │    ├──1d2039fa7971f4bf01a1c20cb2a3fe7af46865ca9cd9b840c2063df8fec4ff75\n",
            "     │    │    └──485904129bdda5d1b5fbc6bc4a82959ecfb9042db44dc08fe87e360b0a3f2501\n",
            "     │    └──7c674ef08ee554408515fb2c0d4bb5833b3b93fda37dfaaa4db09f929cf34d65\n",
            "     │         ├──b06d695869f105fffa5f68c4b9628d58a1aff469a3c62c8c74ddb2af47b178ef\n",
            "     │         └──5a43bc145b8c045b535615392edfba2bd2c4556dfdb13f968bd0668c042ecb35\n",
            "     └──3125448f11f80f8f0a8d4523d5d7d67ecf74bd54f8545a868e4424821fc6c94d\n",
            "          ├──a6f25850daba7cc16e2d0b4f1484459f478361db11546199e0304476b4a0bf6d\n",
            "               ├──2e219794e81e9bb22e230e7f40906eecb4cfcc289e1af253d88b23634266c5a2\n",
            "               └──1c0c3f2623f61894bb6ab743c75efe35632b67985777b7017dedcddc3720aae9\n",
            "          └──5b80e74a146a8a28cf4623b7a2463112f2b98633e4c11874e74117f55f8f291c\n",
            "               ├──2c3bb97ee7fdff8114986619c2d5de9600ce75fe85ad2910d459a77c07a1c2a2\n",
            "               └──dcd08bea557d047f3f19e4fb16ae90f6da76efdbd69b703751d72141ab8a4931\n",
            "\n"
          ]
        }
      ]
    },
    {
      "cell_type": "code",
      "source": [
        "# Prove that the current state is an evolved version of the previous tree\n",
        "proof2 = tree.generate_consistency_proof(challenge=state)\n",
        "proof2.verify()"
      ],
      "metadata": {
        "colab": {
          "base_uri": "https://localhost:8080/"
        },
        "id": "lzhemxISCs5g",
        "outputId": "5f22faa4-242a-445b-ef88-0ea9aa804492"
      },
      "execution_count": 45,
      "outputs": [
        {
          "output_type": "execute_result",
          "data": {
            "text/plain": [
              "True"
            ]
          },
          "metadata": {},
          "execution_count": 45
        }
      ]
    },
    {
      "cell_type": "code",
      "source": [
        "proof2"
      ],
      "metadata": {
        "colab": {
          "base_uri": "https://localhost:8080/"
        },
        "id": "-caMGPVnD5g7",
        "outputId": "0481a5ed-9a07-4cdf-b2b8-524fdec6da8d"
      },
      "execution_count": 46,
      "outputs": [
        {
          "output_type": "execute_result",
          "data": {
            "text/plain": [
              "\n",
              "    ----------------------------------- PROOF ------------------------------------\n",
              "\n",
              "    uuid        : 235bbc24-11d7-11ed-bd91-0242ac1c0002\n",
              "\n",
              "    timestamp   : 1659385122 (Mon Aug  1 20:18:42 2022)\n",
              "    provider    : d1ad8bd2-11d6-11ed-bd91-0242ac1c0002\n",
              "\n",
              "    hash-type   : SHA256\n",
              "    encoding    : UTF-8\n",
              "    security    : ACTIVATED\n",
              "\n",
              "    \n",
              "       [0]   +1   2552e3cbf21513bf4b7a8134e4e4a2e1cd8857cc7fe8a51a455ec226e5cf1e6c\n",
              "       [1]   +1   2e219794e81e9bb22e230e7f40906eecb4cfcc289e1af253d88b23634266c5a2\n",
              "       [2]   +1   1c0c3f2623f61894bb6ab743c75efe35632b67985777b7017dedcddc3720aae9\n",
              "       [3]   -1   5b80e74a146a8a28cf4623b7a2463112f2b98633e4c11874e74117f55f8f291c\n",
              "\n",
              "    offset      : 1\n",
              "\n",
              "    commitment  : e45204e846a110051b8848afa80d195317c25554358c5d4e2e1363993dd8537b\n",
              "\n",
              "    -------------------------------- END OF PROOF --------------------------------"
            ]
          },
          "metadata": {},
          "execution_count": 46
        }
      ]
    },
    {
      "cell_type": "markdown",
      "source": [
        "---"
      ],
      "metadata": {
        "id": "PR5Tb6RMEEvD"
      }
    }
  ]
}