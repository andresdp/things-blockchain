{
  "nbformat": 4,
  "nbformat_minor": 0,
  "metadata": {
    "colab": {
      "name": "nakamoto-calculation.ipynb",
      "provenance": []
    },
    "kernelspec": {
      "name": "python3",
      "display_name": "Python 3"
    },
    "language_info": {
      "name": "python"
    },
    "widgets": {
      "application/vnd.jupyter.widget-state+json": {
        "312656016cf44f9da68b476519215f6c": {
          "model_module": "@jupyter-widgets/controls",
          "model_name": "VBoxModel",
          "model_module_version": "1.5.0",
          "state": {
            "_dom_classes": [
              "widget-interact"
            ],
            "_model_module": "@jupyter-widgets/controls",
            "_model_module_version": "1.5.0",
            "_model_name": "VBoxModel",
            "_view_count": null,
            "_view_module": "@jupyter-widgets/controls",
            "_view_module_version": "1.5.0",
            "_view_name": "VBoxView",
            "box_style": "",
            "children": [
              "IPY_MODEL_8c5ef4cc159341b692d02ff47caf4afb",
              "IPY_MODEL_31257d4cd5d84ab89f947150324a4cab",
              "IPY_MODEL_acf954efda10468b98f1abec409adfd9"
            ],
            "layout": "IPY_MODEL_a9a28089e17044b0b68976be83c89c21"
          }
        },
        "8c5ef4cc159341b692d02ff47caf4afb": {
          "model_module": "@jupyter-widgets/controls",
          "model_name": "FloatSliderModel",
          "model_module_version": "1.5.0",
          "state": {
            "_dom_classes": [],
            "_model_module": "@jupyter-widgets/controls",
            "_model_module_version": "1.5.0",
            "_model_name": "FloatSliderModel",
            "_view_count": null,
            "_view_module": "@jupyter-widgets/controls",
            "_view_module_version": "1.5.0",
            "_view_name": "FloatSliderView",
            "continuous_update": true,
            "description": "q",
            "description_tooltip": null,
            "disabled": false,
            "layout": "IPY_MODEL_01dd89ae450f42f9a33e3957db535feb",
            "max": 0.5,
            "min": 0.1,
            "orientation": "horizontal",
            "readout": true,
            "readout_format": ".2f",
            "step": 0.05,
            "style": "IPY_MODEL_c36dd45218cb4325862fc53d10d689af",
            "value": 0.2
          }
        },
        "31257d4cd5d84ab89f947150324a4cab": {
          "model_module": "@jupyter-widgets/controls",
          "model_name": "IntSliderModel",
          "model_module_version": "1.5.0",
          "state": {
            "_dom_classes": [],
            "_model_module": "@jupyter-widgets/controls",
            "_model_module_version": "1.5.0",
            "_model_name": "IntSliderModel",
            "_view_count": null,
            "_view_module": "@jupyter-widgets/controls",
            "_view_module_version": "1.5.0",
            "_view_name": "IntSliderView",
            "continuous_update": true,
            "description": "z",
            "description_tooltip": null,
            "disabled": false,
            "layout": "IPY_MODEL_29de4f9225394b1a8dc16a1219208073",
            "max": 20,
            "min": 0,
            "orientation": "horizontal",
            "readout": true,
            "readout_format": "d",
            "step": 1,
            "style": "IPY_MODEL_38125f23d0d54befa756f3797be14e36",
            "value": 1
          }
        },
        "acf954efda10468b98f1abec409adfd9": {
          "model_module": "@jupyter-widgets/output",
          "model_name": "OutputModel",
          "model_module_version": "1.0.0",
          "state": {
            "_dom_classes": [],
            "_model_module": "@jupyter-widgets/output",
            "_model_module_version": "1.0.0",
            "_model_name": "OutputModel",
            "_view_count": null,
            "_view_module": "@jupyter-widgets/output",
            "_view_module_version": "1.0.0",
            "_view_name": "OutputView",
            "layout": "IPY_MODEL_c75fe4f719e94c4e9a985c8e6182fd96",
            "msg_id": "",
            "outputs": [
              {
                "output_type": "stream",
                "name": "stdout",
                "text": [
                  "P= 0.41589941\n"
                ]
              }
            ]
          }
        },
        "a9a28089e17044b0b68976be83c89c21": {
          "model_module": "@jupyter-widgets/base",
          "model_name": "LayoutModel",
          "model_module_version": "1.2.0",
          "state": {
            "_model_module": "@jupyter-widgets/base",
            "_model_module_version": "1.2.0",
            "_model_name": "LayoutModel",
            "_view_count": null,
            "_view_module": "@jupyter-widgets/base",
            "_view_module_version": "1.2.0",
            "_view_name": "LayoutView",
            "align_content": null,
            "align_items": null,
            "align_self": null,
            "border": null,
            "bottom": null,
            "display": null,
            "flex": null,
            "flex_flow": null,
            "grid_area": null,
            "grid_auto_columns": null,
            "grid_auto_flow": null,
            "grid_auto_rows": null,
            "grid_column": null,
            "grid_gap": null,
            "grid_row": null,
            "grid_template_areas": null,
            "grid_template_columns": null,
            "grid_template_rows": null,
            "height": null,
            "justify_content": null,
            "justify_items": null,
            "left": null,
            "margin": null,
            "max_height": null,
            "max_width": null,
            "min_height": null,
            "min_width": null,
            "object_fit": null,
            "object_position": null,
            "order": null,
            "overflow": null,
            "overflow_x": null,
            "overflow_y": null,
            "padding": null,
            "right": null,
            "top": null,
            "visibility": null,
            "width": null
          }
        },
        "01dd89ae450f42f9a33e3957db535feb": {
          "model_module": "@jupyter-widgets/base",
          "model_name": "LayoutModel",
          "model_module_version": "1.2.0",
          "state": {
            "_model_module": "@jupyter-widgets/base",
            "_model_module_version": "1.2.0",
            "_model_name": "LayoutModel",
            "_view_count": null,
            "_view_module": "@jupyter-widgets/base",
            "_view_module_version": "1.2.0",
            "_view_name": "LayoutView",
            "align_content": null,
            "align_items": null,
            "align_self": null,
            "border": null,
            "bottom": null,
            "display": null,
            "flex": null,
            "flex_flow": null,
            "grid_area": null,
            "grid_auto_columns": null,
            "grid_auto_flow": null,
            "grid_auto_rows": null,
            "grid_column": null,
            "grid_gap": null,
            "grid_row": null,
            "grid_template_areas": null,
            "grid_template_columns": null,
            "grid_template_rows": null,
            "height": null,
            "justify_content": null,
            "justify_items": null,
            "left": null,
            "margin": null,
            "max_height": null,
            "max_width": null,
            "min_height": null,
            "min_width": null,
            "object_fit": null,
            "object_position": null,
            "order": null,
            "overflow": null,
            "overflow_x": null,
            "overflow_y": null,
            "padding": null,
            "right": null,
            "top": null,
            "visibility": null,
            "width": null
          }
        },
        "c36dd45218cb4325862fc53d10d689af": {
          "model_module": "@jupyter-widgets/controls",
          "model_name": "SliderStyleModel",
          "model_module_version": "1.5.0",
          "state": {
            "_model_module": "@jupyter-widgets/controls",
            "_model_module_version": "1.5.0",
            "_model_name": "SliderStyleModel",
            "_view_count": null,
            "_view_module": "@jupyter-widgets/base",
            "_view_module_version": "1.2.0",
            "_view_name": "StyleView",
            "description_width": "",
            "handle_color": null
          }
        },
        "29de4f9225394b1a8dc16a1219208073": {
          "model_module": "@jupyter-widgets/base",
          "model_name": "LayoutModel",
          "model_module_version": "1.2.0",
          "state": {
            "_model_module": "@jupyter-widgets/base",
            "_model_module_version": "1.2.0",
            "_model_name": "LayoutModel",
            "_view_count": null,
            "_view_module": "@jupyter-widgets/base",
            "_view_module_version": "1.2.0",
            "_view_name": "LayoutView",
            "align_content": null,
            "align_items": null,
            "align_self": null,
            "border": null,
            "bottom": null,
            "display": null,
            "flex": null,
            "flex_flow": null,
            "grid_area": null,
            "grid_auto_columns": null,
            "grid_auto_flow": null,
            "grid_auto_rows": null,
            "grid_column": null,
            "grid_gap": null,
            "grid_row": null,
            "grid_template_areas": null,
            "grid_template_columns": null,
            "grid_template_rows": null,
            "height": null,
            "justify_content": null,
            "justify_items": null,
            "left": null,
            "margin": null,
            "max_height": null,
            "max_width": null,
            "min_height": null,
            "min_width": null,
            "object_fit": null,
            "object_position": null,
            "order": null,
            "overflow": null,
            "overflow_x": null,
            "overflow_y": null,
            "padding": null,
            "right": null,
            "top": null,
            "visibility": null,
            "width": null
          }
        },
        "38125f23d0d54befa756f3797be14e36": {
          "model_module": "@jupyter-widgets/controls",
          "model_name": "SliderStyleModel",
          "model_module_version": "1.5.0",
          "state": {
            "_model_module": "@jupyter-widgets/controls",
            "_model_module_version": "1.5.0",
            "_model_name": "SliderStyleModel",
            "_view_count": null,
            "_view_module": "@jupyter-widgets/base",
            "_view_module_version": "1.2.0",
            "_view_name": "StyleView",
            "description_width": "",
            "handle_color": null
          }
        },
        "c75fe4f719e94c4e9a985c8e6182fd96": {
          "model_module": "@jupyter-widgets/base",
          "model_name": "LayoutModel",
          "model_module_version": "1.2.0",
          "state": {
            "_model_module": "@jupyter-widgets/base",
            "_model_module_version": "1.2.0",
            "_model_name": "LayoutModel",
            "_view_count": null,
            "_view_module": "@jupyter-widgets/base",
            "_view_module_version": "1.2.0",
            "_view_name": "LayoutView",
            "align_content": null,
            "align_items": null,
            "align_self": null,
            "border": null,
            "bottom": null,
            "display": null,
            "flex": null,
            "flex_flow": null,
            "grid_area": null,
            "grid_auto_columns": null,
            "grid_auto_flow": null,
            "grid_auto_rows": null,
            "grid_column": null,
            "grid_gap": null,
            "grid_row": null,
            "grid_template_areas": null,
            "grid_template_columns": null,
            "grid_template_rows": null,
            "height": null,
            "justify_content": null,
            "justify_items": null,
            "left": null,
            "margin": null,
            "max_height": null,
            "max_width": null,
            "min_height": null,
            "min_width": null,
            "object_fit": null,
            "object_position": null,
            "order": null,
            "overflow": null,
            "overflow_x": null,
            "overflow_y": null,
            "padding": null,
            "right": null,
            "top": null,
            "visibility": null,
            "width": null
          }
        },
        "7f064e0a9ad242acbe81dc35f7daff81": {
          "model_module": "@jupyter-widgets/controls",
          "model_name": "VBoxModel",
          "model_module_version": "1.5.0",
          "state": {
            "_dom_classes": [
              "widget-interact"
            ],
            "_model_module": "@jupyter-widgets/controls",
            "_model_module_version": "1.5.0",
            "_model_name": "VBoxModel",
            "_view_count": null,
            "_view_module": "@jupyter-widgets/controls",
            "_view_module_version": "1.5.0",
            "_view_name": "VBoxView",
            "box_style": "",
            "children": [
              "IPY_MODEL_525a79ef18464c1ebdd451c8824bb1d9",
              "IPY_MODEL_4e46a2db870b47f9926782ea52e24f3a",
              "IPY_MODEL_d9b0336e242a489d90cf33bda3d4188e"
            ],
            "layout": "IPY_MODEL_38e2a939dfdc409ca0dfff89cb05dd00"
          }
        },
        "525a79ef18464c1ebdd451c8824bb1d9": {
          "model_module": "@jupyter-widgets/controls",
          "model_name": "FloatSliderModel",
          "model_module_version": "1.5.0",
          "state": {
            "_dom_classes": [],
            "_model_module": "@jupyter-widgets/controls",
            "_model_module_version": "1.5.0",
            "_model_name": "FloatSliderModel",
            "_view_count": null,
            "_view_module": "@jupyter-widgets/controls",
            "_view_module_version": "1.5.0",
            "_view_name": "FloatSliderView",
            "continuous_update": true,
            "description": "q",
            "description_tooltip": null,
            "disabled": false,
            "layout": "IPY_MODEL_6e7be5126d8344a0acebe4118106d22d",
            "max": 0.5,
            "min": 0.1,
            "orientation": "horizontal",
            "readout": true,
            "readout_format": ".2f",
            "step": 0.05,
            "style": "IPY_MODEL_d723bc059a43464ca21e1b500a4587ae",
            "value": 0.2
          }
        },
        "4e46a2db870b47f9926782ea52e24f3a": {
          "model_module": "@jupyter-widgets/controls",
          "model_name": "IntSliderModel",
          "model_module_version": "1.5.0",
          "state": {
            "_dom_classes": [],
            "_model_module": "@jupyter-widgets/controls",
            "_model_module_version": "1.5.0",
            "_model_name": "IntSliderModel",
            "_view_count": null,
            "_view_module": "@jupyter-widgets/controls",
            "_view_module_version": "1.5.0",
            "_view_name": "IntSliderView",
            "continuous_update": true,
            "description": "z_max",
            "description_tooltip": null,
            "disabled": false,
            "layout": "IPY_MODEL_6db299cedc064c64a4bfb4b6e9783e16",
            "max": 20,
            "min": 0,
            "orientation": "horizontal",
            "readout": true,
            "readout_format": "d",
            "step": 1,
            "style": "IPY_MODEL_87d2415e8a554ba58f1f7ef5a141be1f",
            "value": 10
          }
        },
        "d9b0336e242a489d90cf33bda3d4188e": {
          "model_module": "@jupyter-widgets/output",
          "model_name": "OutputModel",
          "model_module_version": "1.0.0",
          "state": {
            "_dom_classes": [],
            "_model_module": "@jupyter-widgets/output",
            "_model_module_version": "1.0.0",
            "_model_name": "OutputModel",
            "_view_count": null,
            "_view_module": "@jupyter-widgets/output",
            "_view_module_version": "1.0.0",
            "_view_name": "OutputView",
            "layout": "IPY_MODEL_d2c79c161ade40a6ba9fa99bec160fb0",
            "msg_id": "",
            "outputs": [
              {
                "output_type": "display_data",
                "data": {
                  "text/plain": "<Figure size 432x288 with 1 Axes>",
                  "image/png": "iVBORw0KGgoAAAANSUhEUgAAAYIAAAEWCAYAAABrDZDcAAAABHNCSVQICAgIfAhkiAAAAAlwSFlzAAALEgAACxIB0t1+/AAAADh0RVh0U29mdHdhcmUAbWF0cGxvdGxpYiB2ZXJzaW9uMy4yLjIsIGh0dHA6Ly9tYXRwbG90bGliLm9yZy+WH4yJAAAgAElEQVR4nO3deZgU1bnH8e87A8O+qOgoi4KKCyoEIYCCyqMmLkkkiVnUa+IW0RjjFmOMSYwxJvEmN0ajJsa47xq3S6KJJsqAqKCo4BUBg4qsiqiDjILA8N4/Tk3o6WWmZ6are3rq93meeqb71Onq93T39Nt1Tp0qc3dERCS5KkodgIiIlJYSgYhIwikRiIgknBKBiEjCKRGIiCScEoGISMIpEbQzZuZmtmsrH3uAmS0sdEx5PO/uZjbHzNaa2VkxP9fg6DXq1MrH53x9zey/zOzxbHXN7Doz+0nrom5xjN82s3fMrM7MtinGc+ajra+9tF9KBK1kZovNbF30z9qwXFPkGBp9qbn7U+6+ezFjiFwATHX3Xu7++xI8f0G4+53u/tkc6053958DmNlEM1sWRwxm1hm4Avisu/d09/da+PhbzOyytLLFZnZoIeNsqyipLC51HBIos7fNF9z9X6UOoh3YCbinEBsys07uvqkQ2ypT1UBXYF6pA4mL9ijaIXfX0ooFWAwcmqW8C1AL7J1Sti2wDtguun8qsAh4H5gC9E+p68Cu0e0a4Fsp604EZkS3p0d1PwLqgK8DE4FlKfX3jLZRS/hiOSpl3S3AtcAjwFpgFrBLE+09KtpGbbTNPaPyJ4F6YH0Ux25ZHlsD/Ap4DvgQ+F9g62jd4KgdpwBLonZVAD8G3gJWAbcBfdLqTwZWACuB81OeawzwbBTnSuAaoCrt9T0LeANYDfwGqEh/fbO8F7cAlwE9ovdyc9TeOqA/8DGwTcpj9wXeBTrn+IxcGcW/IrrdBdgtej892u6TOd6LvwBvA2ui12uvqHwysBHYED3+r8DtUazrorILmtpGtK4b8Nvo9V8DzIjKGl77TlG9own/B3tH79mFwOvAe8B9zbzHg4HFKc/5A2A54bO4EDgkR9uPBF6N6i1veO/T37ss71/WNkXrJgDPED4zS4ETU96n/4lifge4LuUx/YC/RY95H3iKLZ+jvNrSnpaSB1CuCzkSQbTuJuAXKfe/A/wjun0w4Qto3+iDdjUwPaVuXokgvW50fyJRIgA6E5LNRUBV9Lxrgd2j9bdE/7BjCHuGdwL35GhPwxfUZ6LtXhBtuypbnFkeXxP9Y+xN+CJ9ALgjWjc4asdt0bpuwMnR9ncGegIPAren1b87qr8P4Qv30Gj9KGBc1KbBwHzgnLTXbCqwNbAj8FpD7E29vtHrdVn665xS91Hg2yn3fwdcneP1uBSYCWxH+JHwDPDztPZ1auL1PBnoxZaEMidl3X/ibOqz2sw2ro3eswFAJbB/VO8/sQEnRe9Rw+tzdtSmgVHdPwF353qP02LZnfAF3D+lftYfJYTkfkB0eytg32zvXZb3L1ebdiL8XxxL+GxvA3wq5T2cEn1WehES66+idb8iJIbO0XIAYC1pS3taSh5AuS7RP1cd4RdBw3JqtO5Q4PWUuk8D34xu3wj8OmVdT8KvuMHR/UIlggMIv/gqUtbfDVwS3b4FuCFl3ZHAghxt/QlwX8r9CsIX+8RscWZ5fA1wecr9YYRfrZVs+ZLYOWX9E8AZKfd3j16jTin190hZ/2vgxhzPfQ7wUNprdnjK/TOAJ5p7fWk+EXwdeDq6XRm99mNyxPQ6cGTK/cOIfh2TRyJI21bfqH6f9DjTPqtZf7SkbyN6b9cBI7LUa4jtfMKv8oEp6+aT8ssX2CHLe7ZzjufflbDndyhZ9qDS6i4BTgN6p5U3eu9S379m2vTD1M9HSrkRfvzsklK2H/BmdPtSwp7trq1tS3taNFjcNl90974py5+j8qlAdzMba2aDgU8BD0Xr+hN2TwFw9zrCL/MBBY6tP7DU3TenlL2V9jxvp9z+mJCUcm0rNebNhF89LYl5aVocnQm719nWN3q+6HYnQv95ru31BzCz3czsb2b2tpl9CPwy7XlyPraN/hcYZmZDCHtOa9z9uRx1s7UvrxjMrNLMLjez16P2LY5WpbextdvoRxijeL2JTXwfuNbdUwfMdwIeMrNaM6slJIZ6cr9n/+HuiwgJ+xJglZndY2a5Xo+jCT9a3jKzaWa2XxNxNmiqTYNylG8LdAdeSGnTP6JyCF2Ki4DHzewNM7uwFW1pN5QIYuDu9YQ+0mOj5W/uvjZavYLwTwOAmfUg7I4uz7KpjwgfxgbbtyCMFcAgM0t9j3fM8Tz5bCs1ZiP8A7VkW4PS4thI6CJr4LmeL6q/idBPm2t7K6LbfwQWAEPdvTeha8yaiWUFLeMZBe7rCe/58cA3CH3zuWRrX74xHAdMIvzi7EP4tQ1b2pgRW5aypraxmjDes0sTMXwW+LGZHZ1SthQ4Iu2HUVd3T/2MZIstrHC/y90nEF4XB/47R73n3X0SoVvtYcJrDmn/K2aW+r/SVJuW5ihfTdiL2CulPX3cvWcUx1p3/56770wYPzvPzA5pSVvaEyWC+NxF6C74r+h2g7uBk8zsU2bWhfCLdZa7L86yjTnAl82se3SY6Clp698h9KNnM4vwK/8CM+tsZhOBL9C6o3vuAz5nZodEhzd+D/iE0Ledr+PNbJiZdSfsVt8fJcxs7gbONbMhZtaT8Brd642PJvpJ9LrsReivvjcq70UYkK4zsz2Ab2fZ/vfNbCszG0To2743S52mvANsY2Z90spvI3RRHEXTieBuwhfptmbWD7gYuCPP5+5FeO3fI3zx/TJLbOmfifSynNuI9vZuAq4ws/7R3sN+0We1wTzgcOBaMzsqKrsO+IWZ7QQQtW1SPg2K5qEcHD3HerYMxqfXq4rmevRx942E97mh3lxgr+j/qivhF3k+bboTONTMvmZmncxsGzP7VPSYPwO/M7PtoucfYGaHRbc/b2a7Rj+K1hD2fjbn25Z2p9R9U+W6EHanG47EaFgeSqvTcGRQVVr56YTd0fcJRx6k9rWm9kv3Ax4nDGY9Tfhwz0jbzkrC+MTXyDxqaC9gGuGD+irwpZR1t5DSl5z+2Czt/VK0jTXRNlOPMqmh+TGC1KOG/gr0i9YNJq1PnPAD5WLCr7V3CV+SW6XVbzhq6G2iI2Gi9QcS9gjqCEdyXEpmv3/DUUPvEY4kqYzWnZilbsYYQXT/pujxtTQ+6uvfwLRmPjtdgd9H793K6HbXXK9H2mN7Erqh1hK6lL6ZFudQwg+IWuDhqGwSoW+9ltC/39w2uhEGkJez5aiibEcNjSYkmSOi9+w8wlEyawmf71/m2abh0WdjLVv+J/pnqVdF6J75gPA5eh6YkLL+R4Rf8ksJe2bNtiladwDhh9OH0WNPSHmffhl9Vj4kdHedFa07l/Ad8BGwDPhJS9rS3haLgheJjZnVEI4SuqHUscTNzJ4E7kpCW6Xj0MQOkQIxs08TDgvOq0tEpL2IbYzAzG4ys1Vm9kqO9WZmvzezRWb2spntG1csInEzs1uBfxHmLKxtrr5IexJb15CZHUjop73N3ffOsv5I4LuEQ8HGAle5+9hYghERkZxi2yNw9+mEwZJcJhGShLv7TKCvme0QVzwiIpJdKccIBtB4gsmyqGxlekUzm0w4SoRu3bqNGjRoUHqVnCo//pjuyxqfKNIrK6nbpanDpDuOzZs3U1GRrKOE1eZkUJtb5rXXXlvt7ttmW1cWg8Xufj1wPcDo0aN99uzZ+T943Tro0wc2btxSVl8Pjz4KCUgGNTU1TJw4sdRhFJXanAxqc8uY2Vu51pUynS6n8QzPgbRu1mvTunWDMWMyy596quBPJSJSjkqZCKYA34yOHhpHODdLRrdQQRxwQGbZ9OmxPJWISLmJ8/DRuwnnhd/dzJaZ2SlmdrqZnR5VeZQwY28RYSr3GXHFkjURaI9ARASIcYzA3Y9tZr0TztMfv/Hj2Uxa1lu0CFauhB10oJKIJFsyhtz79OH1nlnOsKy9AhGRhCQC4OU+6SeKRIlARAQlguIHIiLSziQ7Ebz8MtTWFj8YEZF2JDGJ4IOqKt6qqmpc6A5PP12agERE2onEJAKAFzRgLCKSIVGJ4KUePTILNbFMRBIuUYngxWyJYPbscD4iEZGESlQiWF5VBQMGNC7cuBFmzSpNQCIi7UCiEgFmOu+QiEiaZCUC0HmHRETSJC8RHHhgZtmzzza+XoGISIIkLxEMGwZbbdW47KOP4KWXShOPiEiJJS8RVFTAhAmZ5eoeEpGESl4igOzdQxowFpGESmYiyDZgPGMGbN5c/FhEREosmYlg332he/fGZe+/D/PnlyYeEZESSmYi6NwZ9tsvs1zdQyKSQMlMBKD5BCIiESWCVNOnh1NTi4gkSHITwbhx0KlT47Lly2Hx4pKEIyJSKslNBN27w+jRmeXqHhKRhEluIgCNE4iIkPREoIllIiIJTwTjx4dTU6d67TV4553SxCMiUgLJTgRbbQX77JNZPmNG8WMRESmRZCcC0IVqRCTxlAg0YCwiCadEkC0RzJ0La9YUPxYRkRJQIujfH3bZpXHZ5s3wzDOliUdEpMiUCEDdQyKSaEoEkH0+gRKBiCSEEgFk3yN47jlYv774sYiIFJkSAYQxgu23b1y2YUNIBiIiHZwSAYTZxTrdhIgkVKyJwMwON7OFZrbIzC7Msn5HM5tqZi+Z2ctmdmSc8TRJA8YiklCxJQIzqwSuBY4AhgHHmtmwtGo/Bu5z95HAMcAf4oqnWdkSwTPPwKZNxY9FRKSI4twjGAMscvc33H0DcA8wKa2OA72j232AFTHG07S994a+fRuX1dXBnDmliUdEpEg6NV+l1QYAS1PuLwPGptW5BHjczL4L9AAOzbYhM5sMTAaorq6mpqamxcHU1tZSX1/f5GP32WMPtpk5s1HZoptvZlldXYufr72oq6tr1etVztTmZFCbCyfORJCPY4Fb3P23ZrYfcLuZ7e3um1Mrufv1wPUAo0eP9okTJ7b4ifr27UttbS1NPvaLX4S0RLDrypXs2ornay9qamqabnMHpDYng9pcOHF2DS0HBqXcHxiVpToFuA/A3Z8FugL9YoypabkmlumC9iLSgcWZCJ4HhprZEDOrIgwGT0mrswQ4BMDM9iQkgndjjKlpo0ZBt26Ny1avhgULShOPiEgRxJYI3H0TcCbwGDCfcHTQPDO71MyOiqp9DzjVzOYCdwMnupfw53dVFYxNH8ZAh5GKSIcW6xiBuz8KPJpWdnHK7VeB8XHG0GIHHgjpgzHTp8PkySUJR0QkbppZnE4Ty0QkYZQI0o0bB5WVjcuWLIG33ipNPCIiMVMiSNezZxg0Tqe9AhHpoJQIslH3kIgkiBJBNkoEIpIgSgTZTJiQWTZ/PrxbuikOIiJxUSLIZpttYK+9MstnzCh+LCIiMVMiyEXdQyKSEEoEueiKZSKSEEoEuWTbI3jpJVi7tvixiIjESIkgl4EDYciQxmWbN4erlomIdCBKBE3ROIGIJIASQVOUCEQkAZQImpJtwHjWLPjkk+LHIiISEyWCpgwdCttt17jsk0/g+edLE4+ISAyUCJpipu4hEenwlAiao/kEItLBKRE0J9sewTPPQH198WMREYmBEkFzhg+H3r0bl334Ibz8cmniEREpMCWC5lRWwvgsl1VW95CIdBBKBPnQgLGIdGBKBPnIlQjcix+LiEiBKRHk49Ofhi5dGpetWgWvvVaaeERECkiJIB9dusDYsZnl6h4SkQ5AiSBfGicQkQ5KiSBfmlgmIh2UEkG+9tsPKtJersWLYenSkoQjIlIoSgT56tULRo7MLFf3kIiUOSWClsjWPaREICJlTomgJTRgLCIdkBJBS0yYkFk2bx68917xYxERKRAlgpbYdlvYc8/M8hkzih+LiEiBKBG0lLqHRKSDUSJoqWyJQPMJRKSMxZoIzOxwM1toZovM7MIcdb5mZq+a2TwzuyvOeAoi25FDL74IdXXFj0VEpABiSwRmVglcCxwBDAOONbNhaXWGAj8Exrv7XsA5ccVTMDvuGJZU9fUwc2Zp4hERaaM49wjGAIvc/Q133wDcA0xKq3MqcK27fwDg7qtijKdw1D0kIh1Ipxi3PQBIPf/CMiD9FJ67AZjZ00AlcIm7/yN9Q2Y2GZgMUF1dTU1NTYuDqa2tpb6+vlWPTbdDdTW7p5V98Ne/Mvfgg9u87UKrq6srSJvLidqcDGpz4cSZCPJ9/qHARGAgMN3M9nH32tRK7n49cD3A6NGjfeLEiS1+or59+1JbW0trHpuhuhquuKJR0VYLFjBx//2hqqrt2y+gmpqawrS5jKjNyaA2F06cXUPLgUEp9wdGZamWAVPcfaO7vwm8RkgM7dsee0C/fo3L1q+H2bNLE4+ISBvEmQieB4aa2RAzqwKOAaak1XmYsDeAmfUjdBW9EWNMhWGm+QQi0mHElgjcfRNwJvAYMB+4z93nmdmlZnZUVO0x4D0zexWYCnzf3cvjfA1KBCLSQcQ6RuDujwKPppVdnHLbgfOipbxkm08wY0Y4lLSysvjxiIi0kmYWt9aIEdCzZ+OyNWvglVdKE4+ISCspEbRWp06w//6Z5eoeEpEyo0TQFrqOsYh0AEoEbZFrwNi9+LGIiLSSEkFbjBmTOYHs7bdh0aLSxCMi0gpKBG3RtWtIBuk0TiAiZUSJoK00n0BEypwSQVvpTKQiUuaUCNpq//2hIu1lfOMNWLGiNPGIiLSQEkFb9ekTJpelU/eQiJQJJYJCUPeQiJQxJYJCyDaxTHsEIlImlAgKYcKEzLJXXoH33y9+LCIiLaREUAjV1bDbbo3L3OHpp0sTj4hICygRFIq6h0SkTOWVCMysq5mdZ2YPmtkDZnaumXWNO7iyoollIlKm8t0juA3YC7gauAYYBtweV1BlKVsimD0bPvqo+LGIiLRAvlco29vdh6XcnxpdXlIaDB4MAwfCsmVbyjZtglmz4OCDSxaWiEhz8t0jeNHMxjXcMbOxwOx4QipTuqC9iJSpfBPBKOAZM1tsZouBZ4FPm9n/mdnLsUVXbjSxTETKUL5dQ4fHGkVHke3IoZkzYeNG6Ny5+PGIiOQhr0Tg7m/FHUiHsOeesPXWjSeSffwxvPgijB1burhERJqgeQSFVFGRfZaxuodEpB1TIig0TSwTkTKjRFBo2QaMZ8yAzZuLH4uISB6UCApt5Ejo0aNx2QcfwLx5pYlHRKQZSgSF1rkz7LdfZrm6h0SknVIiiIPmE4hIGVEiiEOuAWP34sciItIMJYI4jB2bOYFsxQp4883SxCMi0gQlgjh06wajR2eWq3tIRNohJYK4aD6BiJQJJYK46EykIlImlAjiMn58ODV1qn//G+bOLU08IiI5KBHEpW9fGD48s/zkk8PZSEVE2olYE4GZHW5mC81skZld2ES9o83MzSzLCGsZO+64zLIXX4Tf/Kb4sYiI5BBbIjCzSuBa4AjCNY6PNbNhWer1As4GZsUVS8mcdVY4NXW6n/1Mp5wQkXYjzj2CMcAid3/D3TcA9wCTstT7OfDfwPoYYymNrl3h5pvD6alTbdgQuog2bSpNXCIiKfK9QllrDACWptxfBjS6OouZ7QsMcvdHzOz7uTZkZpOByQDV1dXU1NS0OJja2lrq6+tb9di22vmrX2XHe+9tXPjcc7x+5pksPeaYWJ+7rq6uJG0uJbU5GdTmAnL3WBbgK8ANKfe/AVyTcr8CqAEGR/drgNHNbXfUqFHeGgcddJCPGDGiVY9ts48/dt9tN/dwkoktS5cu7gsWxPrUU6dOjXX77ZHanAxqc8sAsz3H92qcXUPLgUEp9wdGZQ16AXsDNWa2GBgHTOlwA8YQZhrffHPm4aSffBK6iOrrSxOXiAjxjhE8Dww1syFmVgUcA0xpWOnua9y9n7sPdvfBwEzgKHefHWNMpbP//nD22ZnlzzwDV19d/HhERCKxJQJ33wScCTwGzAfuc/d5ZnapmR0V1/O2a7/4BeyyS2b5RRfBokXFj0dEhHgHi3H3R4FH08ouzlF3YpyxtAvdu8ONN8LEiY3L162DU06BqVMzjzASEYmZvnWK7aCD4DvfySyfPh3++MfixyMiiadEUAqXXw6DB2eW/+AHumaBiBSdEkEp9OwJN9yQWf7RR3DqqbqSmYgUlRJBqRxyCEyenFn+xBPw5z8XPx4RSSwlglL6zW9g0KDM8vPPhyVLih+PiCSSEkEp9e6d/df/2rVhb0FdRCJSBEoEpXbYYXDSSZnljz0Gt9xS9HBEJHmUCNqDK66A/v0zy889F5YvzywXESkgJYL2oG9f+NOfMsvXrIHTTlMXkYjESomgvfj85+H44zPLH3kE7rij+PGISGIoEbQnV10F1dWZ5WefDStXFj8eEUkEJYL2ZOuts59m4oMP4Iwz1EUkIrFQImhvvvQl+PrXM8sffhjSr3ImIlIASgTt0dVXw7bbZpafeSasWlX8eESkQ1MiaI+23RauuSaz/L33QjIQESkgJYL26qtfhS9/ObP8L3+BBx4ofjwi0mEpEbRXZvCHP4QB5HRnnAGrVxc/JhHpkJQI2rPqavj97zPLV63Kfv1jEZFWUCJo7447Dr7whczyu+6CKVOKH4+IdDhKBO2dGVx3XTgNRbrTTw9zDERE2kCJoBz07w9XXplZvnJlODGdiEgbKBGUi29+E444IrP81lvh738vfjwi0mEoEZQLM7j++nAxm3SnnhrOVCoi0gpKBOVk4ED47W8zy5cvD5e3FBFpBSWCcnPKKfCZz2SW33AD/POfxY9HRMqeEkG5MQvXOe7ZM3Pdt74VrncsItICSgTlaKed4Ne/zixfsgQuuKD48YhIWVMiKFennQYTJ2aWX3cdPPlk0cMRkfKlRFCuKirgxhuhe/fMdd/6FtTVFT8mESlLSgTlbOed4Ve/yix/80246KLixyMiZUmJoNydeSZMmJBZfvXV8NRTxY9HRMqOEkG5q6iAm26Crl0z1518MhXr1xc/JhEpK0oEHcHQoXDZZZnlixYx5Kabih+PiJQVJYKO4pxzYNy4jOKB998Pzz5bgoBEpFzEmgjM7HAzW2hmi8zswizrzzOzV83sZTN7wsx2ijOeDq2yMnQRdenSqNjc4eSTdbpqEckptkRgZpXAtcARwDDgWDMbllbtJWC0uw8H7geyzJKSvO25J1xySWb5ggUwYoQGj0Ukqzj3CMYAi9z9DXffANwDTEqt4O5T3f3j6O5MYGCM8STD+efD6NGZ5UuXhgloF18MmzYVPSwRab86xbjtAcDSlPvLgLFN1D8FyHpifTObDEwGqK6upqampsXB1NbWUl9f36rHlpseZ5zBqNNOo2LjxsYrNm+Gn/+cNQ8+yPwf/Yj1O+xQmgBjVldXl4j3OZXanAyxtdndY1mArwA3pNz/BnBNjrrHE/YIujS33VGjRnlrHHTQQT5ixIhWPbYsPfKIe58+7pB96d3b/a67Sh1lLKZOnVrqEIpObU6GtrQZmO05vlfj7BpaDgxKuT8wKmvEzA4FfgQc5e6fxBhPshx5JMyZw5q9986+/sMP4bjj4IQTdMZSkYSLMxE8Dww1syFmVgUcA0xJrWBmI4E/EZLAqhhjSabBg5lz5ZVhALkix1t9220wciQ891xRQxOR9iO2RODum4AzgceA+cB97j7PzC41s6Oiar8BegJ/MbM5ZjYlx+aklbyyEn76U5g2DXbcMXul11+H8ePDeYvq64sboIiUXJyDxbj7o8CjaWUXp9w+NM7nlxQTJsDcueH01ffdl7l+06Zworp//jPsJQzUAVwiSaGZxUnSty/ccw/cfDP06JG9ztSpYc7BQw8VNzYRKRklgqQxgxNPhJdeyj7fAOD99+HLX4bTT4ePP85eR0Q6DCWCpBo6FJ5+Gn7wg5AcsvnTn0KymDu3uLGJSFEpESRZVRVcfnkYF8g1uWz+fBgzBq66KsxAEJEOR4lA4JBD4OWX4aijsq/fsCGc3fRzn4N33ilubCISOyUCCfr1g4cfhj/8IftFbgD+/ncYPhz+8Y/ixiYisVIikC3M4NvfhtmzYZ99stdZtQqOOALOPRc+0URwkY5AiUAy7bVXmGl81lm561x5JYwdG8YQRKSsKRFIdl27hgHiv/0tdBtlM3cujBoF11+vgWSRMqZEIE373OfCQPJnP5t9/bp1Ybby0UfDe+8VNzYRKQglAmneDjuEgeLf/hY6d85e56GHwozkqVOLG5uItJkSgeSnogLOOw9mzYLdd89eZ/nycCjqRRdB+kVxRKTdUiKQlhk5El54AU49Nft693AW0wkTwllNRaTdUyKQluvRIwwQ338/bLVV9jrPPRfmHJx4IvzrXzq9tUg7pkQgrXf00eHIoYMOyr7+44/h1lvhM5+BQYPg/PNhzhwdYSTSzigRSNsMGgRPPAGXXQaVlbnrrVwZBptHjgyT1S6/HJYsKV6cIpKTEoG0XWUl/OhHMGMGDBnSfP158+CHP4Sddgp7E3/+M3zwQfxxikhWSgRSOOPGha6fs8+G3r3ze8z06TB5Mmy/fehqeughnbpCpMiUCKSwevcOp5945x34y19g0qTccw9SbdgADz4YLoiz/fZhktr06bB5c/wxiyScEoHEo2tX+MpXwhlNV66EP/4xHFKaj9racFTSQQeFrqaLLoJXX403XpEEUyKQ+G2zTbjs5VNPwRtvhIHlXJPS0i1ZEuYl7LUX7LsvXHFFSCwiUjBKBFJcQ4aEgeX588Pprs85B6qr83vsSy/B974HAweGcx/ddhusXRtvvCIJoEQgpWEWzlz6u9/BsmXhYjfHHx8mqzVn8+Zwec0TTghJ5Ljj4JFHdFoLkVZSIpDS69QJDjsMbr89DDLfeWe4+E1T8xIarFsHd98Nn/889O8P3/0uvefNC4PPIpKXTqUOQKSRHj3CL/zjjgtJ4d574Y474Pnnm3/s6tVwzTXsC+EKanvuGc6IOnx4+DtiBGy3XdwtECk7SgTSflVXh6uknXUWLFwY9hTuuAPefLP5x27cGK6j8PLLjcu3375xYhgxIgxc53OIq0gHpUQg5WH33eHSS+FnP0eHJ1IAAAd3SURBVIOZM0NCuPfell8M5+23w/L441vKqqpg2LDGyWH48NxXZhPpYJQIpLyYwX77heV3v4PHHgtJYcoUWL++ddvcsCHMiJ4zp3F5//6NE8OIEbDbbmFMQ6QD0SdayldVFXzhC2FZsybMTH7gAT6ZOZMuhbhs5ooVYfn737eUde0a5jSkjz3kOh23SBlQIpCOoU8fOOkkOOkknq2pYeKwYWF8YO7cLcv8+W0/xHT9+nBhnhdeaFw+aFBIDIMHh3GI9KW6WuMQ0m4pEUjHtN12cOihYWmwYQMsWLAlMTQkilWr2v58S5eGpSn9+mVPEunL1luHLjCRIlEikOSoqgq/2ocPh298Y0v5229nJocFC2DTpsI+/+rVYXnllabrde4c9iC23x522KHppNG9e2FjlERSIhBp+FI97LAtZZ98Ek50l969VIixh+Zs3BhmWy9b1nzdXr1g++0Z2bkzDBgAPXuGsmx/m1rXo4f2QhJMiUAkmy5dwtXURo7cUuYeBo/Tk8PChaU7XfbatbB2LX2gbWdoNQvJIJ+kkfq3R4/wWnXpEva48vmbz4xxKSolApF8mYVf3QMGhFNgNFi3LnwJL1wYZkOvXLllvkLD8u67pYs7H+5QVxeWuFVUtCxx5Fi384oVYT5IZWU4pLeysvHtbGXNrc+3rKIifB4qKrYsLb2fWlbivbFYE4GZHQ5cBVQCN7j75WnruwC3AaOA94Cvu/viOGMSKbhu3cIJ9EaNyl1n48aQDNITRLakUYwv41LavDkkz3Xr2rSZHQsUTruRR/IYX18fkuFTT4VTqBRIbInAzCqBa4HPAMuA581sirun7r+eAnzg7rua2THAfwNfjysmkZLp3DlMUOvfv/m6dXVhzyI9QaQnjnfeKfyAtpROQ/difX3OKv85ANm9oE9tXuAN/mfDZvsBl7j7YdH9HwK4+69S6jwW1XnWzDoBbwPbehNB9erVy0c19csrhzlz5rBp0yZGjx7d4seWs9raWvr27VvqMIoqKW02d3pv2sTWGzbgtbVs160b3err/7N037Qp/G24n7KuW1pZV10StKx889OfZkkLjxibNm3aC+6e9Qswzq6hAUDqgdXLgLG56rj7JjNbA2wDrE6tZGaTgcnR3bpp06YtbGVM/aZNm7a6+WodSj/SXs8EUJuTIbltzudsvJl2yrWiLAaL3f164Pq2bsfMZufKiB2V2pwManMyxNXmOC9MsxwYlHJ/YFSWtU7UNdSHMGgsIiJFEmcieB4YamZDzKwKOAaYklZnCnBCdPsrwJNNjQ+IiEjhxdY1FPX5nwk8Rjh89CZ3n2dmlwKz3X0KcCNwu5ktAt4nJIs4tbl7qQypzcmgNidDLG2O7aghEREpD7p4vYhIwikRiIgkXGISgZkdbmYLzWyRmV1Y6njiZmaDzGyqmb1qZvPM7OxSx1QMZlZpZi+Z2d9KHUsxmFlfM7vfzBaY2fxoImeHZmbnRp/pV8zsbjPrWuqYCs3MbjKzVWb2SkrZ1mb2TzP7d/S3YJfFS0QiSDndxRHAMOBYMxtW2qhitwn4nrsPA8YB30lAmwHOBuaXOogiugr4h7vvAYygg7fdzAYAZwGj3X1vwoEocR9kUgq3AIenlV0IPOHuQ4EnovsFkYhEAIwBFrn7G+6+AbgHmFTimGLl7ivd/cXo9lrCF8SA0kYVLzMbCHwOuKHUsRSDmfUBDiQcfYe7b3D32tJGVRSdgG7R3KPuwIoSx1Nw7j6dcCRlqknArdHtW4EvFur5kpIIsp3uokN/KaYys8HASGBWaSOJ3ZXABUBSTpwzBHgXuDnqDrvBzHqUOqg4ufty4H+AJcBKYI27P17aqIqm2t1XRrffBqoLteGkJILEMrOewAPAOe7+YanjiYuZfR5Y5e4vNFu54+gE7Av80d1HAh9RwO6C9ijqF59ESIL9gR5mdnxpoyq+aOJtwY79T0oiyOd0Fx2OmXUmJIE73f3BUscTs/HAUWa2mND1d7CZ3VHakGK3DFjm7g17evcTEkNHdijwpru/6+4bgQeB/UscU7G8Y2Y7AER/VxVqw0lJBPmc7qJDMTMj9B3Pd/crSh1P3Nz9h+4+0N0HE97fJ929Q/9SdPe3gaVmtntUdAjQhutVloUlwDgz6x59xg+hgw+Qp0g9Jc8JwP8WasNlcfbRtsp1uosShxW38cA3gP8zszlR2UXu/mgJY5LC+y5wZ/QD5w3gpBLHEyt3n2Vm9wMvEo6Me4kOeKoJM7sbmAj0M7NlwE+By4H7zOwU4C3gawV7Pp1iQkQk2ZLSNSQiIjkoEYiIJJwSgYhIwikRiIgknBKBiEjCKRGIiCScEoGISMIpEYi0kZmdbmZzouVNM5ta6phEWkITykQKJDq305PAr939r6WORyRf2iMQKZyrCOc4UhKQspKIcw2JxM3MTgR2As4scSgiLaauIZE2MrNRhCtGHeDuH5Q6HpGWUteQSNudCWwNTI0GjBNxqUzpOLRHICKScNojEBFJOCUCEZGEUyIQEUk4JQIRkYRTIhARSTglAhGRhFMiEBFJuP8H/gLINuzp+IYAAAAASUVORK5CYII=\n"
                },
                "metadata": {
                  "needs_background": "light"
                }
              }
            ]
          }
        },
        "38e2a939dfdc409ca0dfff89cb05dd00": {
          "model_module": "@jupyter-widgets/base",
          "model_name": "LayoutModel",
          "model_module_version": "1.2.0",
          "state": {
            "_model_module": "@jupyter-widgets/base",
            "_model_module_version": "1.2.0",
            "_model_name": "LayoutModel",
            "_view_count": null,
            "_view_module": "@jupyter-widgets/base",
            "_view_module_version": "1.2.0",
            "_view_name": "LayoutView",
            "align_content": null,
            "align_items": null,
            "align_self": null,
            "border": null,
            "bottom": null,
            "display": null,
            "flex": null,
            "flex_flow": null,
            "grid_area": null,
            "grid_auto_columns": null,
            "grid_auto_flow": null,
            "grid_auto_rows": null,
            "grid_column": null,
            "grid_gap": null,
            "grid_row": null,
            "grid_template_areas": null,
            "grid_template_columns": null,
            "grid_template_rows": null,
            "height": null,
            "justify_content": null,
            "justify_items": null,
            "left": null,
            "margin": null,
            "max_height": null,
            "max_width": null,
            "min_height": null,
            "min_width": null,
            "object_fit": null,
            "object_position": null,
            "order": null,
            "overflow": null,
            "overflow_x": null,
            "overflow_y": null,
            "padding": null,
            "right": null,
            "top": null,
            "visibility": null,
            "width": null
          }
        },
        "6e7be5126d8344a0acebe4118106d22d": {
          "model_module": "@jupyter-widgets/base",
          "model_name": "LayoutModel",
          "model_module_version": "1.2.0",
          "state": {
            "_model_module": "@jupyter-widgets/base",
            "_model_module_version": "1.2.0",
            "_model_name": "LayoutModel",
            "_view_count": null,
            "_view_module": "@jupyter-widgets/base",
            "_view_module_version": "1.2.0",
            "_view_name": "LayoutView",
            "align_content": null,
            "align_items": null,
            "align_self": null,
            "border": null,
            "bottom": null,
            "display": null,
            "flex": null,
            "flex_flow": null,
            "grid_area": null,
            "grid_auto_columns": null,
            "grid_auto_flow": null,
            "grid_auto_rows": null,
            "grid_column": null,
            "grid_gap": null,
            "grid_row": null,
            "grid_template_areas": null,
            "grid_template_columns": null,
            "grid_template_rows": null,
            "height": null,
            "justify_content": null,
            "justify_items": null,
            "left": null,
            "margin": null,
            "max_height": null,
            "max_width": null,
            "min_height": null,
            "min_width": null,
            "object_fit": null,
            "object_position": null,
            "order": null,
            "overflow": null,
            "overflow_x": null,
            "overflow_y": null,
            "padding": null,
            "right": null,
            "top": null,
            "visibility": null,
            "width": null
          }
        },
        "d723bc059a43464ca21e1b500a4587ae": {
          "model_module": "@jupyter-widgets/controls",
          "model_name": "SliderStyleModel",
          "model_module_version": "1.5.0",
          "state": {
            "_model_module": "@jupyter-widgets/controls",
            "_model_module_version": "1.5.0",
            "_model_name": "SliderStyleModel",
            "_view_count": null,
            "_view_module": "@jupyter-widgets/base",
            "_view_module_version": "1.2.0",
            "_view_name": "StyleView",
            "description_width": "",
            "handle_color": null
          }
        },
        "6db299cedc064c64a4bfb4b6e9783e16": {
          "model_module": "@jupyter-widgets/base",
          "model_name": "LayoutModel",
          "model_module_version": "1.2.0",
          "state": {
            "_model_module": "@jupyter-widgets/base",
            "_model_module_version": "1.2.0",
            "_model_name": "LayoutModel",
            "_view_count": null,
            "_view_module": "@jupyter-widgets/base",
            "_view_module_version": "1.2.0",
            "_view_name": "LayoutView",
            "align_content": null,
            "align_items": null,
            "align_self": null,
            "border": null,
            "bottom": null,
            "display": null,
            "flex": null,
            "flex_flow": null,
            "grid_area": null,
            "grid_auto_columns": null,
            "grid_auto_flow": null,
            "grid_auto_rows": null,
            "grid_column": null,
            "grid_gap": null,
            "grid_row": null,
            "grid_template_areas": null,
            "grid_template_columns": null,
            "grid_template_rows": null,
            "height": null,
            "justify_content": null,
            "justify_items": null,
            "left": null,
            "margin": null,
            "max_height": null,
            "max_width": null,
            "min_height": null,
            "min_width": null,
            "object_fit": null,
            "object_position": null,
            "order": null,
            "overflow": null,
            "overflow_x": null,
            "overflow_y": null,
            "padding": null,
            "right": null,
            "top": null,
            "visibility": null,
            "width": null
          }
        },
        "87d2415e8a554ba58f1f7ef5a141be1f": {
          "model_module": "@jupyter-widgets/controls",
          "model_name": "SliderStyleModel",
          "model_module_version": "1.5.0",
          "state": {
            "_model_module": "@jupyter-widgets/controls",
            "_model_module_version": "1.5.0",
            "_model_name": "SliderStyleModel",
            "_view_count": null,
            "_view_module": "@jupyter-widgets/base",
            "_view_module_version": "1.2.0",
            "_view_name": "StyleView",
            "description_width": "",
            "handle_color": null
          }
        },
        "d2c79c161ade40a6ba9fa99bec160fb0": {
          "model_module": "@jupyter-widgets/base",
          "model_name": "LayoutModel",
          "model_module_version": "1.2.0",
          "state": {
            "_model_module": "@jupyter-widgets/base",
            "_model_module_version": "1.2.0",
            "_model_name": "LayoutModel",
            "_view_count": null,
            "_view_module": "@jupyter-widgets/base",
            "_view_module_version": "1.2.0",
            "_view_name": "LayoutView",
            "align_content": null,
            "align_items": null,
            "align_self": null,
            "border": null,
            "bottom": null,
            "display": null,
            "flex": null,
            "flex_flow": null,
            "grid_area": null,
            "grid_auto_columns": null,
            "grid_auto_flow": null,
            "grid_auto_rows": null,
            "grid_column": null,
            "grid_gap": null,
            "grid_row": null,
            "grid_template_areas": null,
            "grid_template_columns": null,
            "grid_template_rows": null,
            "height": null,
            "justify_content": null,
            "justify_items": null,
            "left": null,
            "margin": null,
            "max_height": null,
            "max_width": null,
            "min_height": null,
            "min_width": null,
            "object_fit": null,
            "object_position": null,
            "order": null,
            "overflow": null,
            "overflow_x": null,
            "overflow_y": null,
            "padding": null,
            "right": null,
            "top": null,
            "visibility": null,
            "width": null
          }
        },
        "463aa6363639401299080b36d5f24881": {
          "model_module": "@jupyter-widgets/controls",
          "model_name": "VBoxModel",
          "model_module_version": "1.5.0",
          "state": {
            "_dom_classes": [
              "widget-interact"
            ],
            "_model_module": "@jupyter-widgets/controls",
            "_model_module_version": "1.5.0",
            "_model_name": "VBoxModel",
            "_view_count": null,
            "_view_module": "@jupyter-widgets/controls",
            "_view_module_version": "1.5.0",
            "_view_name": "VBoxView",
            "box_style": "",
            "children": [
              "IPY_MODEL_c0194c932bd24d53b9488c5782350399",
              "IPY_MODEL_0c45089a150e474abd640ff37168dcd8",
              "IPY_MODEL_1e571e52254b4aaf8b81755a106bb217"
            ],
            "layout": "IPY_MODEL_83f3c96ca54a413eaa5bc68ce16a862a"
          }
        },
        "c0194c932bd24d53b9488c5782350399": {
          "model_module": "@jupyter-widgets/controls",
          "model_name": "FloatSliderModel",
          "model_module_version": "1.5.0",
          "state": {
            "_dom_classes": [],
            "_model_module": "@jupyter-widgets/controls",
            "_model_module_version": "1.5.0",
            "_model_name": "FloatSliderModel",
            "_view_count": null,
            "_view_module": "@jupyter-widgets/controls",
            "_view_module_version": "1.5.0",
            "_view_name": "FloatSliderView",
            "continuous_update": true,
            "description": "p",
            "description_tooltip": null,
            "disabled": false,
            "layout": "IPY_MODEL_b4e886508e8b467497061ecac1b142ce",
            "max": 0.2,
            "min": 0,
            "orientation": "horizontal",
            "readout": true,
            "readout_format": ".2f",
            "step": 0.001,
            "style": "IPY_MODEL_0a1b77ee1c3a49a98b6d616b74e0e061",
            "value": 0.01
          }
        },
        "0c45089a150e474abd640ff37168dcd8": {
          "model_module": "@jupyter-widgets/controls",
          "model_name": "FloatSliderModel",
          "model_module_version": "1.5.0",
          "state": {
            "_dom_classes": [],
            "_model_module": "@jupyter-widgets/controls",
            "_model_module_version": "1.5.0",
            "_model_name": "FloatSliderModel",
            "_view_count": null,
            "_view_module": "@jupyter-widgets/controls",
            "_view_module_version": "1.5.0",
            "_view_name": "FloatSliderView",
            "continuous_update": true,
            "description": "q_max",
            "description_tooltip": null,
            "disabled": false,
            "layout": "IPY_MODEL_2fbb881b781e4b518f52c93a33998259",
            "max": 1,
            "min": 0,
            "orientation": "horizontal",
            "readout": true,
            "readout_format": ".2f",
            "step": 0.1,
            "style": "IPY_MODEL_2aa94eaaf7b646f3a7dadfd1e4a1713b",
            "value": 1
          }
        },
        "1e571e52254b4aaf8b81755a106bb217": {
          "model_module": "@jupyter-widgets/output",
          "model_name": "OutputModel",
          "model_module_version": "1.0.0",
          "state": {
            "_dom_classes": [],
            "_model_module": "@jupyter-widgets/output",
            "_model_module_version": "1.0.0",
            "_model_name": "OutputModel",
            "_view_count": null,
            "_view_module": "@jupyter-widgets/output",
            "_view_module_version": "1.0.0",
            "_view_name": "OutputView",
            "layout": "IPY_MODEL_9e261e0ccd9c44e4ad099d1603cac68f",
            "msg_id": "",
            "outputs": [
              {
                "output_type": "stream",
                "name": "stderr",
                "text": [
                  "/usr/local/lib/python3.7/dist-packages/ipykernel_launcher.py:12: RuntimeWarning: divide by zero encountered in double_scalars\n",
                  "  if sys.path[0] == '':\n",
                  "/usr/local/lib/python3.7/dist-packages/ipykernel_launcher.py:12: RuntimeWarning: invalid value encountered in double_scalars\n",
                  "  if sys.path[0] == '':\n",
                  "/usr/local/lib/python3.7/dist-packages/ipykernel_launcher.py:18: RuntimeWarning: divide by zero encountered in double_scalars\n",
                  "/usr/local/lib/python3.7/dist-packages/ipykernel_launcher.py:17: RuntimeWarning: invalid value encountered in double_scalars\n"
                ]
              },
              {
                "output_type": "display_data",
                "data": {
                  "text/plain": "<Figure size 432x288 with 1 Axes>",
                  "image/png": "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\n"
                },
                "metadata": {
                  "needs_background": "light"
                }
              }
            ]
          }
        },
        "83f3c96ca54a413eaa5bc68ce16a862a": {
          "model_module": "@jupyter-widgets/base",
          "model_name": "LayoutModel",
          "model_module_version": "1.2.0",
          "state": {
            "_model_module": "@jupyter-widgets/base",
            "_model_module_version": "1.2.0",
            "_model_name": "LayoutModel",
            "_view_count": null,
            "_view_module": "@jupyter-widgets/base",
            "_view_module_version": "1.2.0",
            "_view_name": "LayoutView",
            "align_content": null,
            "align_items": null,
            "align_self": null,
            "border": null,
            "bottom": null,
            "display": null,
            "flex": null,
            "flex_flow": null,
            "grid_area": null,
            "grid_auto_columns": null,
            "grid_auto_flow": null,
            "grid_auto_rows": null,
            "grid_column": null,
            "grid_gap": null,
            "grid_row": null,
            "grid_template_areas": null,
            "grid_template_columns": null,
            "grid_template_rows": null,
            "height": null,
            "justify_content": null,
            "justify_items": null,
            "left": null,
            "margin": null,
            "max_height": null,
            "max_width": null,
            "min_height": null,
            "min_width": null,
            "object_fit": null,
            "object_position": null,
            "order": null,
            "overflow": null,
            "overflow_x": null,
            "overflow_y": null,
            "padding": null,
            "right": null,
            "top": null,
            "visibility": null,
            "width": null
          }
        },
        "b4e886508e8b467497061ecac1b142ce": {
          "model_module": "@jupyter-widgets/base",
          "model_name": "LayoutModel",
          "model_module_version": "1.2.0",
          "state": {
            "_model_module": "@jupyter-widgets/base",
            "_model_module_version": "1.2.0",
            "_model_name": "LayoutModel",
            "_view_count": null,
            "_view_module": "@jupyter-widgets/base",
            "_view_module_version": "1.2.0",
            "_view_name": "LayoutView",
            "align_content": null,
            "align_items": null,
            "align_self": null,
            "border": null,
            "bottom": null,
            "display": null,
            "flex": null,
            "flex_flow": null,
            "grid_area": null,
            "grid_auto_columns": null,
            "grid_auto_flow": null,
            "grid_auto_rows": null,
            "grid_column": null,
            "grid_gap": null,
            "grid_row": null,
            "grid_template_areas": null,
            "grid_template_columns": null,
            "grid_template_rows": null,
            "height": null,
            "justify_content": null,
            "justify_items": null,
            "left": null,
            "margin": null,
            "max_height": null,
            "max_width": null,
            "min_height": null,
            "min_width": null,
            "object_fit": null,
            "object_position": null,
            "order": null,
            "overflow": null,
            "overflow_x": null,
            "overflow_y": null,
            "padding": null,
            "right": null,
            "top": null,
            "visibility": null,
            "width": null
          }
        },
        "0a1b77ee1c3a49a98b6d616b74e0e061": {
          "model_module": "@jupyter-widgets/controls",
          "model_name": "SliderStyleModel",
          "model_module_version": "1.5.0",
          "state": {
            "_model_module": "@jupyter-widgets/controls",
            "_model_module_version": "1.5.0",
            "_model_name": "SliderStyleModel",
            "_view_count": null,
            "_view_module": "@jupyter-widgets/base",
            "_view_module_version": "1.2.0",
            "_view_name": "StyleView",
            "description_width": "",
            "handle_color": null
          }
        },
        "2fbb881b781e4b518f52c93a33998259": {
          "model_module": "@jupyter-widgets/base",
          "model_name": "LayoutModel",
          "model_module_version": "1.2.0",
          "state": {
            "_model_module": "@jupyter-widgets/base",
            "_model_module_version": "1.2.0",
            "_model_name": "LayoutModel",
            "_view_count": null,
            "_view_module": "@jupyter-widgets/base",
            "_view_module_version": "1.2.0",
            "_view_name": "LayoutView",
            "align_content": null,
            "align_items": null,
            "align_self": null,
            "border": null,
            "bottom": null,
            "display": null,
            "flex": null,
            "flex_flow": null,
            "grid_area": null,
            "grid_auto_columns": null,
            "grid_auto_flow": null,
            "grid_auto_rows": null,
            "grid_column": null,
            "grid_gap": null,
            "grid_row": null,
            "grid_template_areas": null,
            "grid_template_columns": null,
            "grid_template_rows": null,
            "height": null,
            "justify_content": null,
            "justify_items": null,
            "left": null,
            "margin": null,
            "max_height": null,
            "max_width": null,
            "min_height": null,
            "min_width": null,
            "object_fit": null,
            "object_position": null,
            "order": null,
            "overflow": null,
            "overflow_x": null,
            "overflow_y": null,
            "padding": null,
            "right": null,
            "top": null,
            "visibility": null,
            "width": null
          }
        },
        "2aa94eaaf7b646f3a7dadfd1e4a1713b": {
          "model_module": "@jupyter-widgets/controls",
          "model_name": "SliderStyleModel",
          "model_module_version": "1.5.0",
          "state": {
            "_model_module": "@jupyter-widgets/controls",
            "_model_module_version": "1.5.0",
            "_model_name": "SliderStyleModel",
            "_view_count": null,
            "_view_module": "@jupyter-widgets/base",
            "_view_module_version": "1.2.0",
            "_view_name": "StyleView",
            "description_width": "",
            "handle_color": null
          }
        },
        "9e261e0ccd9c44e4ad099d1603cac68f": {
          "model_module": "@jupyter-widgets/base",
          "model_name": "LayoutModel",
          "model_module_version": "1.2.0",
          "state": {
            "_model_module": "@jupyter-widgets/base",
            "_model_module_version": "1.2.0",
            "_model_name": "LayoutModel",
            "_view_count": null,
            "_view_module": "@jupyter-widgets/base",
            "_view_module_version": "1.2.0",
            "_view_name": "LayoutView",
            "align_content": null,
            "align_items": null,
            "align_self": null,
            "border": null,
            "bottom": null,
            "display": null,
            "flex": null,
            "flex_flow": null,
            "grid_area": null,
            "grid_auto_columns": null,
            "grid_auto_flow": null,
            "grid_auto_rows": null,
            "grid_column": null,
            "grid_gap": null,
            "grid_row": null,
            "grid_template_areas": null,
            "grid_template_columns": null,
            "grid_template_rows": null,
            "height": null,
            "justify_content": null,
            "justify_items": null,
            "left": null,
            "margin": null,
            "max_height": null,
            "max_width": null,
            "min_height": null,
            "min_width": null,
            "object_fit": null,
            "object_position": null,
            "order": null,
            "overflow": null,
            "overflow_x": null,
            "overflow_y": null,
            "padding": null,
            "right": null,
            "top": null,
            "visibility": null,
            "width": null
          }
        }
      }
    }
  },
  "cells": [
    {
      "cell_type": "markdown",
      "source": [
        "Source: \"Bitcoin: A peer-to-peer electronic cash system\" Satoshi Nakamoto - [link](https://bitcoin.org/bitcoin.pdf)"
      ],
      "metadata": {
        "id": "GGwKF-OdZnUr"
      }
    },
    {
      "cell_type": "code",
      "source": [
        "# Game (race) between the honest chain and an attacker chain, which can be \n",
        "# characterizes as a binomial random walk\n",
        "# Casted as a Gambler's Ruin problem:\n",
        "# p: probability an honest node finds the next block\n",
        "# q: (1-p) probability the attacker finds the next block\n",
        "# z: nombre of blocks being linked after a given block\n",
        "import math\n",
        "\n",
        "# Attacker's probability of success\n",
        "def compute_attacker_success_probability(q, z): \n",
        "  p = 1 - q\n",
        "  lambda_ = z * (q/p) # attacker's potential progress, according to a Poisson distribution\n",
        "  sum = 1.0\n",
        "  for k in range(0,z+1):\n",
        "    poisson = math.exp(-lambda_)\n",
        "    for i in range (1,k+1):\n",
        "      poisson *= lambda_/i\n",
        "    sum -= poisson * (1 - math.pow(q/p, z-k))\n",
        "\n",
        "  return sum"
      ],
      "metadata": {
        "id": "x1G5faCmT6C3"
      },
      "execution_count": null,
      "outputs": []
    },
    {
      "cell_type": "code",
      "source": [
        "# A simple calculation\n",
        "q = 0.1\n",
        "for z in range(0,11):\n",
        "  prob_success = compute_attacker_success_probability(q,z)\n",
        "  print(\"q= {:.2f}\".format(q),\"z=\", z, \"\\tP= {:.8f}\".format(prob_success))"
      ],
      "metadata": {
        "colab": {
          "base_uri": "https://localhost:8080/"
        },
        "id": "OFdie2C_U0RQ",
        "outputId": "120c41ab-17b2-4408-918b-6f9fa106d4b5"
      },
      "execution_count": null,
      "outputs": [
        {
          "output_type": "stream",
          "name": "stdout",
          "text": [
            "q= 0.10 z= 0 \tP= 1.00000000\n",
            "q= 0.10 z= 1 \tP= 0.20458727\n",
            "q= 0.10 z= 2 \tP= 0.05097789\n",
            "q= 0.10 z= 3 \tP= 0.01317224\n",
            "q= 0.10 z= 4 \tP= 0.00345524\n",
            "q= 0.10 z= 5 \tP= 0.00091368\n",
            "q= 0.10 z= 6 \tP= 0.00024280\n",
            "q= 0.10 z= 7 \tP= 0.00006474\n",
            "q= 0.10 z= 8 \tP= 0.00001730\n",
            "q= 0.10 z= 9 \tP= 0.00000463\n",
            "q= 0.10 z= 10 \tP= 0.00000124\n"
          ]
        }
      ]
    },
    {
      "cell_type": "code",
      "source": [
        "#from __future__ import print_function\n",
        "from ipywidgets import interact, interactive\n",
        "import ipywidgets as widgets\n",
        "\n",
        "import matplotlib.pyplot as plt\n",
        "import numpy as np"
      ],
      "metadata": {
        "id": "ElPoPhYrdx0z"
      },
      "execution_count": null,
      "outputs": []
    },
    {
      "cell_type": "code",
      "source": [
        "# A more interactive calculation\n",
        "def f(q,z):\n",
        "  prob_success = compute_attacker_success_probability(q,z)\n",
        "  print(\"P= {:.8f}\".format(prob_success))\n",
        "\n",
        "widgets.interact(f, \n",
        "         q=widgets.FloatSlider(min=0.1, max=0.5, step=0.05, value=0.2), \n",
        "         z=widgets.IntSlider(min=0, max=20, step=1, value=1));"
      ],
      "metadata": {
        "colab": {
          "base_uri": "https://localhost:8080/",
          "height": 98,
          "referenced_widgets": [
            "312656016cf44f9da68b476519215f6c",
            "8c5ef4cc159341b692d02ff47caf4afb",
            "31257d4cd5d84ab89f947150324a4cab",
            "acf954efda10468b98f1abec409adfd9",
            "a9a28089e17044b0b68976be83c89c21",
            "01dd89ae450f42f9a33e3957db535feb",
            "c36dd45218cb4325862fc53d10d689af",
            "29de4f9225394b1a8dc16a1219208073",
            "38125f23d0d54befa756f3797be14e36",
            "c75fe4f719e94c4e9a985c8e6182fd96"
          ]
        },
        "id": "yGpKK37Ad2IQ",
        "outputId": "9cd898e8-c216-480a-c1ed-7feac2d86aa6"
      },
      "execution_count": null,
      "outputs": [
        {
          "output_type": "display_data",
          "data": {
            "text/plain": [
              "interactive(children=(FloatSlider(value=0.2, description='q', max=0.5, min=0.1, step=0.05), IntSlider(value=1,…"
            ],
            "application/vnd.jupyter.widget-view+json": {
              "version_major": 2,
              "version_minor": 0,
              "model_id": "312656016cf44f9da68b476519215f6c"
            }
          },
          "metadata": {}
        }
      ]
    },
    {
      "cell_type": "code",
      "source": [
        "# A visualization of the evolution of p (when q and z are fixed)\n",
        "def attacker_success_probability_plot(q, z_max):\n",
        "  plt.figure(2)\n",
        "  z = np.linspace(0, z_max, num=z_max+1)\n",
        "  #print(z)\n",
        "  prob_success = []\n",
        "  for i in z:\n",
        "    #print(int(i),q)\n",
        "    prob_success.append(compute_attacker_success_probability(q,int(i)))\n",
        "\n",
        "  plt.ylim(0,1)\n",
        "  plt.axvline(color='black')\n",
        "  plt.axhline(color='black')\n",
        "  plt.plot(z, prob_success, lw=5,color='red')\n",
        "  plt.ylabel(\"p\")\n",
        "  plt.xlabel(\"z\")\n",
        "  plt.title(\"Evolution of probability of attacker's success\")\n",
        "  plt.grid()\n",
        "  plt.show()\n",
        "\n",
        "attacker_success_probability_plot(0.1,10)"
      ],
      "metadata": {
        "colab": {
          "base_uri": "https://localhost:8080/",
          "height": 295
        },
        "id": "nDQnTm-Lqapf",
        "outputId": "151be5f6-cbf2-4a9c-ca39-2f1572a2d1c6"
      },
      "execution_count": null,
      "outputs": [
        {
          "output_type": "display_data",
          "data": {
            "text/plain": [
              "<Figure size 432x288 with 1 Axes>"
            ],
            "image/png": "[encoded data removed]"
          },
          "metadata": {
            "needs_background": "light"
          }
        }
      ]
    },
    {
      "cell_type": "code",
      "source": [
        "# Now the interactive visualization\n",
        "widgets.interact(attacker_success_probability_plot, \n",
        "         q=widgets.FloatSlider(min=0.1, max=0.5, step=0.05, value=0.2), \n",
        "         z_max=widgets.IntSlider(min=0, max=20, step=1, value=10));"
      ],
      "metadata": {
        "colab": {
          "base_uri": "https://localhost:8080/",
          "height": 359,
          "referenced_widgets": [
            "7f064e0a9ad242acbe81dc35f7daff81",
            "525a79ef18464c1ebdd451c8824bb1d9",
            "4e46a2db870b47f9926782ea52e24f3a",
            "d9b0336e242a489d90cf33bda3d4188e",
            "38e2a939dfdc409ca0dfff89cb05dd00",
            "6e7be5126d8344a0acebe4118106d22d",
            "d723bc059a43464ca21e1b500a4587ae",
            "6db299cedc064c64a4bfb4b6e9783e16",
            "87d2415e8a554ba58f1f7ef5a141be1f",
            "d2c79c161ade40a6ba9fa99bec160fb0"
          ]
        },
        "id": "zGwHxifTs-we",
        "outputId": "887ea55d-6ebc-447e-9617-ab589fa0e209"
      },
      "execution_count": null,
      "outputs": [
        {
          "output_type": "display_data",
          "data": {
            "text/plain": [
              "interactive(children=(FloatSlider(value=0.2, description='q', max=0.5, min=0.1, step=0.05), IntSlider(value=10…"
            ],
            "application/vnd.jupyter.widget-view+json": {
              "version_major": 2,
              "version_minor": 0,
              "model_id": "7f064e0a9ad242acbe81dc35f7daff81"
            }
          },
          "metadata": {}
        }
      ]
    },
    {
      "cell_type": "code",
      "source": [
        "import numpy as np\n",
        "\n",
        "# Finding the minimum z (number of blocks) for a merchant to counteract the attacker's probability of success\n",
        "def compute_minimum_z_for_merchant(prob, q_num=20, q_max=1.0, z_max=200, tolerance=0.0001):\n",
        "\n",
        "  q_values = []\n",
        "  z_values = []\n",
        "\n",
        "  q_range = np.linspace(0, q_max, num=q_num+1)\n",
        "  for q in q_range:\n",
        "    min_z = z_max+1\n",
        "    for z in range(0,z_max+1):\n",
        "      p = compute_attacker_success_probability(q,z)\n",
        "      if (p > 0) and (p <= 1.0) and (abs(p - prob) < tolerance):\n",
        "        if z < min_z:\n",
        "          min_z = z\n",
        "          break\n",
        "    \n",
        "    p = compute_attacker_success_probability(q,min_z)\n",
        "    if (p > 0) and (min_z <= z_max):\n",
        "      q_values.append(q)\n",
        "      z_values.append(min_z)\n",
        "      #print(prob,p, q, min_z)\n",
        "      #print(\"=====\")\n",
        "\n",
        "  return q_values, z_values\n",
        "\n",
        "compute_minimum_z_for_merchant(0.02, tolerance=0.001)"
      ],
      "metadata": {
        "colab": {
          "base_uri": "https://localhost:8080/"
        },
        "id": "PcfVOvxA0lt9",
        "outputId": "a7e09910-59bc-4b11-822a-eaabb8be54c5"
      },
      "execution_count": null,
      "outputs": [
        {
          "output_type": "stream",
          "name": "stderr",
          "text": [
            "/usr/local/lib/python3.7/dist-packages/ipykernel_launcher.py:12: RuntimeWarning: divide by zero encountered in double_scalars\n",
            "  if sys.path[0] == '':\n",
            "/usr/local/lib/python3.7/dist-packages/ipykernel_launcher.py:12: RuntimeWarning: invalid value encountered in double_scalars\n",
            "  if sys.path[0] == '':\n",
            "/usr/local/lib/python3.7/dist-packages/ipykernel_launcher.py:18: RuntimeWarning: divide by zero encountered in double_scalars\n",
            "/usr/local/lib/python3.7/dist-packages/ipykernel_launcher.py:17: RuntimeWarning: invalid value encountered in double_scalars\n"
          ]
        },
        {
          "output_type": "execute_result",
          "data": {
            "text/plain": [
              "([0.25, 0.35000000000000003, 0.4, 0.45], [8, 22, 48, 181])"
            ]
          },
          "metadata": {},
          "execution_count": 9
        }
      ]
    },
    {
      "cell_type": "code",
      "source": [
        "import matplotlib.pyplot as plt\n",
        "\n",
        "# A visualization of the evolution of the minimum z \n",
        "def minimum_z_value_for_merchant_plot(p, q_max=1.0):\n",
        "\n",
        "  q_values, z_min_values = compute_minimum_z_for_merchant(p, q_num=20, q_max=q_max, tolerance=p/10)\n",
        "  #print(q_values, z_min_values)\n",
        "  print(\"#points:\", len(q_values))\n",
        "\n",
        "  plt.figure(2)\n",
        "\n",
        "  plt.axvline(color='black')\n",
        "  plt.axhline(color='black')\n",
        "  plt.scatter(q_values, z_min_values, lw=5,color='blue')\n",
        "  plt.xlabel(\"q\")\n",
        "  plt.ylabel(\"min z\")\n",
        "  plt.title(\"Merchant's minimum z to deal with attacker (p= \"+str(p)+\")\")\n",
        "  plt.grid()\n",
        "  plt.show()\n",
        "\n",
        "minimum_z_value_for_merchant_plot(0.001, q_max=1.0)"
      ],
      "metadata": {
        "colab": {
          "base_uri": "https://localhost:8080/",
          "height": 417
        },
        "id": "m5inkbViEbtO",
        "outputId": "e07b313d-730a-478a-efed-407dec0004cf"
      },
      "execution_count": null,
      "outputs": [
        {
          "output_type": "stream",
          "name": "stderr",
          "text": [
            "/usr/local/lib/python3.7/dist-packages/ipykernel_launcher.py:12: RuntimeWarning: divide by zero encountered in double_scalars\n",
            "  if sys.path[0] == '':\n",
            "/usr/local/lib/python3.7/dist-packages/ipykernel_launcher.py:12: RuntimeWarning: invalid value encountered in double_scalars\n",
            "  if sys.path[0] == '':\n",
            "/usr/local/lib/python3.7/dist-packages/ipykernel_launcher.py:18: RuntimeWarning: divide by zero encountered in double_scalars\n",
            "/usr/local/lib/python3.7/dist-packages/ipykernel_launcher.py:17: RuntimeWarning: invalid value encountered in double_scalars\n"
          ]
        },
        {
          "output_type": "stream",
          "name": "stdout",
          "text": [
            "#points: 7\n"
          ]
        },
        {
          "output_type": "display_data",
          "data": {
            "text/plain": [
              "<Figure size 432x288 with 1 Axes>"
            ],
            "image/png": "[encoded data removed]"
          },
          "metadata": {
            "needs_background": "light"
          }
        }
      ]
    },
    {
      "cell_type": "code",
      "source": [
        "# Now the interactive visualization\n",
        "widgets.interact(minimum_z_value_for_merchant_plot, \n",
        "         p=widgets.FloatSlider(min=0.0, max=0.2, step=0.001, value=0.001), \n",
        "         q_max=widgets.FloatSlider(min=0, max=1.0, step=0.1, value=0.4));"
      ],
      "metadata": {
        "colab": {
          "base_uri": "https://localhost:8080/",
          "height": 463,
          "referenced_widgets": [
            "463aa6363639401299080b36d5f24881",
            "c0194c932bd24d53b9488c5782350399",
            "0c45089a150e474abd640ff37168dcd8",
            "1e571e52254b4aaf8b81755a106bb217",
            "83f3c96ca54a413eaa5bc68ce16a862a",
            "b4e886508e8b467497061ecac1b142ce",
            "0a1b77ee1c3a49a98b6d616b74e0e061",
            "2fbb881b781e4b518f52c93a33998259",
            "2aa94eaaf7b646f3a7dadfd1e4a1713b",
            "9e261e0ccd9c44e4ad099d1603cac68f"
          ]
        },
        "id": "mPn9E5ryIFnS",
        "outputId": "111a5fee-737e-44de-fbea-387efea9c008"
      },
      "execution_count": null,
      "outputs": [
        {
          "output_type": "display_data",
          "data": {
            "text/plain": [
              "interactive(children=(FloatSlider(value=0.001, description='p', max=0.2, step=0.001), FloatSlider(value=0.4, d…"
            ],
            "application/vnd.jupyter.widget-view+json": {
              "version_major": 2,
              "version_minor": 0,
              "model_id": "463aa6363639401299080b36d5f24881"
            }
          },
          "metadata": {}
        }
      ]
    },
    {
      "cell_type": "code",
      "source": [
        "from ipywidgets import Widget\n",
        "Widget.close_all()"
      ],
      "metadata": {
        "id": "AfIulEc2_Rju"
      },
      "execution_count": null,
      "outputs": []
    }
  ]
}
