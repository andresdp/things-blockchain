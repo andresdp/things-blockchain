{
  "nbformat": 4,
  "nbformat_minor": 0,
  "metadata": {
    "colab": {
      "name": "nakamoto-calculations.ipynb",
      "provenance": [],
      "collapsed_sections": [],
      "authorship_tag": "ABX9TyMtlMJBqNUBXapbdHzgjV3b",
      "include_colab_link": true
    },
    "kernelspec": {
      "name": "python3",
      "display_name": "Python 3"
    },
    "language_info": {
      "name": "python"
    },
    "widgets": {
      "application/vnd.jupyter.widget-state+json": {
        "849ff61e8815451eb7bb27d9dd6481ff": {
          "model_module": "@jupyter-widgets/controls",
          "model_name": "VBoxModel",
          "model_module_version": "1.5.0",
          "state": {
            "_dom_classes": [
              "widget-interact"
            ],
            "_model_module": "@jupyter-widgets/controls",
            "_model_module_version": "1.5.0",
            "_model_name": "VBoxModel",
            "_view_count": null,
            "_view_module": "@jupyter-widgets/controls",
            "_view_module_version": "1.5.0",
            "_view_name": "VBoxView",
            "box_style": "",
            "children": [
              "IPY_MODEL_f4250ff752f54b43a40c65d1f472e8c9",
              "IPY_MODEL_d824ecee3a5c4abaa41c14079b90dd62",
              "IPY_MODEL_6199a285399b49ed95aee1936645e193"
            ],
            "layout": "IPY_MODEL_20bf23e089ed44e195fe06b207dbf1fc"
          }
        },
        "f4250ff752f54b43a40c65d1f472e8c9": {
          "model_module": "@jupyter-widgets/controls",
          "model_name": "FloatSliderModel",
          "model_module_version": "1.5.0",
          "state": {
            "_dom_classes": [],
            "_model_module": "@jupyter-widgets/controls",
            "_model_module_version": "1.5.0",
            "_model_name": "FloatSliderModel",
            "_view_count": null,
            "_view_module": "@jupyter-widgets/controls",
            "_view_module_version": "1.5.0",
            "_view_name": "FloatSliderView",
            "continuous_update": true,
            "description": "q",
            "description_tooltip": null,
            "disabled": false,
            "layout": "IPY_MODEL_df0e7f3e9ad94581b768b040caeee56d",
            "max": 0.5,
            "min": 0.1,
            "orientation": "horizontal",
            "readout": true,
            "readout_format": ".2f",
            "step": 0.05,
            "style": "IPY_MODEL_2bffb15165d7407e940e63ec02f3e377",
            "value": 0.2
          }
        },
        "d824ecee3a5c4abaa41c14079b90dd62": {
          "model_module": "@jupyter-widgets/controls",
          "model_name": "IntSliderModel",
          "model_module_version": "1.5.0",
          "state": {
            "_dom_classes": [],
            "_model_module": "@jupyter-widgets/controls",
            "_model_module_version": "1.5.0",
            "_model_name": "IntSliderModel",
            "_view_count": null,
            "_view_module": "@jupyter-widgets/controls",
            "_view_module_version": "1.5.0",
            "_view_name": "IntSliderView",
            "continuous_update": true,
            "description": "z",
            "description_tooltip": null,
            "disabled": false,
            "layout": "IPY_MODEL_f67ab08f8d524852971e06d7581b13da",
            "max": 20,
            "min": 0,
            "orientation": "horizontal",
            "readout": true,
            "readout_format": "d",
            "step": 1,
            "style": "IPY_MODEL_d3e06c9ea6914771954e37ded47d34dc",
            "value": 1
          }
        },
        "6199a285399b49ed95aee1936645e193": {
          "model_module": "@jupyter-widgets/output",
          "model_name": "OutputModel",
          "model_module_version": "1.0.0",
          "state": {
            "_dom_classes": [],
            "_model_module": "@jupyter-widgets/output",
            "_model_module_version": "1.0.0",
            "_model_name": "OutputModel",
            "_view_count": null,
            "_view_module": "@jupyter-widgets/output",
            "_view_module_version": "1.0.0",
            "_view_name": "OutputView",
            "layout": "IPY_MODEL_a3566b474d83465b9d688a52b112cea8",
            "msg_id": "",
            "outputs": [
              {
                "output_type": "stream",
                "name": "stdout",
                "text": [
                  "P= 0.41589941\n"
                ]
              }
            ]
          }
        },
        "20bf23e089ed44e195fe06b207dbf1fc": {
          "model_module": "@jupyter-widgets/base",
          "model_name": "LayoutModel",
          "model_module_version": "1.2.0",
          "state": {
            "_model_module": "@jupyter-widgets/base",
            "_model_module_version": "1.2.0",
            "_model_name": "LayoutModel",
            "_view_count": null,
            "_view_module": "@jupyter-widgets/base",
            "_view_module_version": "1.2.0",
            "_view_name": "LayoutView",
            "align_content": null,
            "align_items": null,
            "align_self": null,
            "border": null,
            "bottom": null,
            "display": null,
            "flex": null,
            "flex_flow": null,
            "grid_area": null,
            "grid_auto_columns": null,
            "grid_auto_flow": null,
            "grid_auto_rows": null,
            "grid_column": null,
            "grid_gap": null,
            "grid_row": null,
            "grid_template_areas": null,
            "grid_template_columns": null,
            "grid_template_rows": null,
            "height": null,
            "justify_content": null,
            "justify_items": null,
            "left": null,
            "margin": null,
            "max_height": null,
            "max_width": null,
            "min_height": null,
            "min_width": null,
            "object_fit": null,
            "object_position": null,
            "order": null,
            "overflow": null,
            "overflow_x": null,
            "overflow_y": null,
            "padding": null,
            "right": null,
            "top": null,
            "visibility": null,
            "width": null
          }
        },
        "df0e7f3e9ad94581b768b040caeee56d": {
          "model_module": "@jupyter-widgets/base",
          "model_name": "LayoutModel",
          "model_module_version": "1.2.0",
          "state": {
            "_model_module": "@jupyter-widgets/base",
            "_model_module_version": "1.2.0",
            "_model_name": "LayoutModel",
            "_view_count": null,
            "_view_module": "@jupyter-widgets/base",
            "_view_module_version": "1.2.0",
            "_view_name": "LayoutView",
            "align_content": null,
            "align_items": null,
            "align_self": null,
            "border": null,
            "bottom": null,
            "display": null,
            "flex": null,
            "flex_flow": null,
            "grid_area": null,
            "grid_auto_columns": null,
            "grid_auto_flow": null,
            "grid_auto_rows": null,
            "grid_column": null,
            "grid_gap": null,
            "grid_row": null,
            "grid_template_areas": null,
            "grid_template_columns": null,
            "grid_template_rows": null,
            "height": null,
            "justify_content": null,
            "justify_items": null,
            "left": null,
            "margin": null,
            "max_height": null,
            "max_width": null,
            "min_height": null,
            "min_width": null,
            "object_fit": null,
            "object_position": null,
            "order": null,
            "overflow": null,
            "overflow_x": null,
            "overflow_y": null,
            "padding": null,
            "right": null,
            "top": null,
            "visibility": null,
            "width": null
          }
        },
        "2bffb15165d7407e940e63ec02f3e377": {
          "model_module": "@jupyter-widgets/controls",
          "model_name": "SliderStyleModel",
          "model_module_version": "1.5.0",
          "state": {
            "_model_module": "@jupyter-widgets/controls",
            "_model_module_version": "1.5.0",
            "_model_name": "SliderStyleModel",
            "_view_count": null,
            "_view_module": "@jupyter-widgets/base",
            "_view_module_version": "1.2.0",
            "_view_name": "StyleView",
            "description_width": "",
            "handle_color": null
          }
        },
        "f67ab08f8d524852971e06d7581b13da": {
          "model_module": "@jupyter-widgets/base",
          "model_name": "LayoutModel",
          "model_module_version": "1.2.0",
          "state": {
            "_model_module": "@jupyter-widgets/base",
            "_model_module_version": "1.2.0",
            "_model_name": "LayoutModel",
            "_view_count": null,
            "_view_module": "@jupyter-widgets/base",
            "_view_module_version": "1.2.0",
            "_view_name": "LayoutView",
            "align_content": null,
            "align_items": null,
            "align_self": null,
            "border": null,
            "bottom": null,
            "display": null,
            "flex": null,
            "flex_flow": null,
            "grid_area": null,
            "grid_auto_columns": null,
            "grid_auto_flow": null,
            "grid_auto_rows": null,
            "grid_column": null,
            "grid_gap": null,
            "grid_row": null,
            "grid_template_areas": null,
            "grid_template_columns": null,
            "grid_template_rows": null,
            "height": null,
            "justify_content": null,
            "justify_items": null,
            "left": null,
            "margin": null,
            "max_height": null,
            "max_width": null,
            "min_height": null,
            "min_width": null,
            "object_fit": null,
            "object_position": null,
            "order": null,
            "overflow": null,
            "overflow_x": null,
            "overflow_y": null,
            "padding": null,
            "right": null,
            "top": null,
            "visibility": null,
            "width": null
          }
        },
        "d3e06c9ea6914771954e37ded47d34dc": {
          "model_module": "@jupyter-widgets/controls",
          "model_name": "SliderStyleModel",
          "model_module_version": "1.5.0",
          "state": {
            "_model_module": "@jupyter-widgets/controls",
            "_model_module_version": "1.5.0",
            "_model_name": "SliderStyleModel",
            "_view_count": null,
            "_view_module": "@jupyter-widgets/base",
            "_view_module_version": "1.2.0",
            "_view_name": "StyleView",
            "description_width": "",
            "handle_color": null
          }
        },
        "a3566b474d83465b9d688a52b112cea8": {
          "model_module": "@jupyter-widgets/base",
          "model_name": "LayoutModel",
          "model_module_version": "1.2.0",
          "state": {
            "_model_module": "@jupyter-widgets/base",
            "_model_module_version": "1.2.0",
            "_model_name": "LayoutModel",
            "_view_count": null,
            "_view_module": "@jupyter-widgets/base",
            "_view_module_version": "1.2.0",
            "_view_name": "LayoutView",
            "align_content": null,
            "align_items": null,
            "align_self": null,
            "border": null,
            "bottom": null,
            "display": null,
            "flex": null,
            "flex_flow": null,
            "grid_area": null,
            "grid_auto_columns": null,
            "grid_auto_flow": null,
            "grid_auto_rows": null,
            "grid_column": null,
            "grid_gap": null,
            "grid_row": null,
            "grid_template_areas": null,
            "grid_template_columns": null,
            "grid_template_rows": null,
            "height": null,
            "justify_content": null,
            "justify_items": null,
            "left": null,
            "margin": null,
            "max_height": null,
            "max_width": null,
            "min_height": null,
            "min_width": null,
            "object_fit": null,
            "object_position": null,
            "order": null,
            "overflow": null,
            "overflow_x": null,
            "overflow_y": null,
            "padding": null,
            "right": null,
            "top": null,
            "visibility": null,
            "width": null
          }
        },
        "886af84681e24740b93df4f21dbe1d28": {
          "model_module": "@jupyter-widgets/controls",
          "model_name": "VBoxModel",
          "model_module_version": "1.5.0",
          "state": {
            "_dom_classes": [
              "widget-interact"
            ],
            "_model_module": "@jupyter-widgets/controls",
            "_model_module_version": "1.5.0",
            "_model_name": "VBoxModel",
            "_view_count": null,
            "_view_module": "@jupyter-widgets/controls",
            "_view_module_version": "1.5.0",
            "_view_name": "VBoxView",
            "box_style": "",
            "children": [
              "IPY_MODEL_6e07b35726144da7b7823a21f163d460",
              "IPY_MODEL_2a1e311a3d8347e780f1d46f5ac48874",
              "IPY_MODEL_e4860eb9502648cd9aacc04fe826e402"
            ],
            "layout": "IPY_MODEL_8d87279b5e0445f09cfb24ca4c98ad64"
          }
        },
        "6e07b35726144da7b7823a21f163d460": {
          "model_module": "@jupyter-widgets/controls",
          "model_name": "FloatSliderModel",
          "model_module_version": "1.5.0",
          "state": {
            "_dom_classes": [],
            "_model_module": "@jupyter-widgets/controls",
            "_model_module_version": "1.5.0",
            "_model_name": "FloatSliderModel",
            "_view_count": null,
            "_view_module": "@jupyter-widgets/controls",
            "_view_module_version": "1.5.0",
            "_view_name": "FloatSliderView",
            "continuous_update": true,
            "description": "q",
            "description_tooltip": null,
            "disabled": false,
            "layout": "IPY_MODEL_9aa1adf5495b4dd99327e6b0ae038b8e",
            "max": 0.5,
            "min": 0.1,
            "orientation": "horizontal",
            "readout": true,
            "readout_format": ".2f",
            "step": 0.05,
            "style": "IPY_MODEL_6808677181f14e7c8e19a1fef53feefe",
            "value": 0.2
          }
        },
        "2a1e311a3d8347e780f1d46f5ac48874": {
          "model_module": "@jupyter-widgets/controls",
          "model_name": "IntSliderModel",
          "model_module_version": "1.5.0",
          "state": {
            "_dom_classes": [],
            "_model_module": "@jupyter-widgets/controls",
            "_model_module_version": "1.5.0",
            "_model_name": "IntSliderModel",
            "_view_count": null,
            "_view_module": "@jupyter-widgets/controls",
            "_view_module_version": "1.5.0",
            "_view_name": "IntSliderView",
            "continuous_update": true,
            "description": "z_max",
            "description_tooltip": null,
            "disabled": false,
            "layout": "IPY_MODEL_6e1d283af46a4fec988563aac25e4108",
            "max": 20,
            "min": 0,
            "orientation": "horizontal",
            "readout": true,
            "readout_format": "d",
            "step": 1,
            "style": "IPY_MODEL_684f0f070c4740f1b2c62a8cc957f238",
            "value": 10
          }
        },
        "e4860eb9502648cd9aacc04fe826e402": {
          "model_module": "@jupyter-widgets/output",
          "model_name": "OutputModel",
          "model_module_version": "1.0.0",
          "state": {
            "_dom_classes": [],
            "_model_module": "@jupyter-widgets/output",
            "_model_module_version": "1.0.0",
            "_model_name": "OutputModel",
            "_view_count": null,
            "_view_module": "@jupyter-widgets/output",
            "_view_module_version": "1.0.0",
            "_view_name": "OutputView",
            "layout": "IPY_MODEL_a607049662294a71a6aa42790d6367aa",
            "msg_id": "",
            "outputs": [
              {
                "output_type": "display_data",
                "data": {
                  "text/plain": "<Figure size 432x288 with 1 Axes>",
                  "image/png": "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\n"
                },
                "metadata": {
                  "needs_background": "light"
                }
              }
            ]
          }
        },
        "8d87279b5e0445f09cfb24ca4c98ad64": {
          "model_module": "@jupyter-widgets/base",
          "model_name": "LayoutModel",
          "model_module_version": "1.2.0",
          "state": {
            "_model_module": "@jupyter-widgets/base",
            "_model_module_version": "1.2.0",
            "_model_name": "LayoutModel",
            "_view_count": null,
            "_view_module": "@jupyter-widgets/base",
            "_view_module_version": "1.2.0",
            "_view_name": "LayoutView",
            "align_content": null,
            "align_items": null,
            "align_self": null,
            "border": null,
            "bottom": null,
            "display": null,
            "flex": null,
            "flex_flow": null,
            "grid_area": null,
            "grid_auto_columns": null,
            "grid_auto_flow": null,
            "grid_auto_rows": null,
            "grid_column": null,
            "grid_gap": null,
            "grid_row": null,
            "grid_template_areas": null,
            "grid_template_columns": null,
            "grid_template_rows": null,
            "height": null,
            "justify_content": null,
            "justify_items": null,
            "left": null,
            "margin": null,
            "max_height": null,
            "max_width": null,
            "min_height": null,
            "min_width": null,
            "object_fit": null,
            "object_position": null,
            "order": null,
            "overflow": null,
            "overflow_x": null,
            "overflow_y": null,
            "padding": null,
            "right": null,
            "top": null,
            "visibility": null,
            "width": null
          }
        },
        "9aa1adf5495b4dd99327e6b0ae038b8e": {
          "model_module": "@jupyter-widgets/base",
          "model_name": "LayoutModel",
          "model_module_version": "1.2.0",
          "state": {
            "_model_module": "@jupyter-widgets/base",
            "_model_module_version": "1.2.0",
            "_model_name": "LayoutModel",
            "_view_count": null,
            "_view_module": "@jupyter-widgets/base",
            "_view_module_version": "1.2.0",
            "_view_name": "LayoutView",
            "align_content": null,
            "align_items": null,
            "align_self": null,
            "border": null,
            "bottom": null,
            "display": null,
            "flex": null,
            "flex_flow": null,
            "grid_area": null,
            "grid_auto_columns": null,
            "grid_auto_flow": null,
            "grid_auto_rows": null,
            "grid_column": null,
            "grid_gap": null,
            "grid_row": null,
            "grid_template_areas": null,
            "grid_template_columns": null,
            "grid_template_rows": null,
            "height": null,
            "justify_content": null,
            "justify_items": null,
            "left": null,
            "margin": null,
            "max_height": null,
            "max_width": null,
            "min_height": null,
            "min_width": null,
            "object_fit": null,
            "object_position": null,
            "order": null,
            "overflow": null,
            "overflow_x": null,
            "overflow_y": null,
            "padding": null,
            "right": null,
            "top": null,
            "visibility": null,
            "width": null
          }
        },
        "6808677181f14e7c8e19a1fef53feefe": {
          "model_module": "@jupyter-widgets/controls",
          "model_name": "SliderStyleModel",
          "model_module_version": "1.5.0",
          "state": {
            "_model_module": "@jupyter-widgets/controls",
            "_model_module_version": "1.5.0",
            "_model_name": "SliderStyleModel",
            "_view_count": null,
            "_view_module": "@jupyter-widgets/base",
            "_view_module_version": "1.2.0",
            "_view_name": "StyleView",
            "description_width": "",
            "handle_color": null
          }
        },
        "6e1d283af46a4fec988563aac25e4108": {
          "model_module": "@jupyter-widgets/base",
          "model_name": "LayoutModel",
          "model_module_version": "1.2.0",
          "state": {
            "_model_module": "@jupyter-widgets/base",
            "_model_module_version": "1.2.0",
            "_model_name": "LayoutModel",
            "_view_count": null,
            "_view_module": "@jupyter-widgets/base",
            "_view_module_version": "1.2.0",
            "_view_name": "LayoutView",
            "align_content": null,
            "align_items": null,
            "align_self": null,
            "border": null,
            "bottom": null,
            "display": null,
            "flex": null,
            "flex_flow": null,
            "grid_area": null,
            "grid_auto_columns": null,
            "grid_auto_flow": null,
            "grid_auto_rows": null,
            "grid_column": null,
            "grid_gap": null,
            "grid_row": null,
            "grid_template_areas": null,
            "grid_template_columns": null,
            "grid_template_rows": null,
            "height": null,
            "justify_content": null,
            "justify_items": null,
            "left": null,
            "margin": null,
            "max_height": null,
            "max_width": null,
            "min_height": null,
            "min_width": null,
            "object_fit": null,
            "object_position": null,
            "order": null,
            "overflow": null,
            "overflow_x": null,
            "overflow_y": null,
            "padding": null,
            "right": null,
            "top": null,
            "visibility": null,
            "width": null
          }
        },
        "684f0f070c4740f1b2c62a8cc957f238": {
          "model_module": "@jupyter-widgets/controls",
          "model_name": "SliderStyleModel",
          "model_module_version": "1.5.0",
          "state": {
            "_model_module": "@jupyter-widgets/controls",
            "_model_module_version": "1.5.0",
            "_model_name": "SliderStyleModel",
            "_view_count": null,
            "_view_module": "@jupyter-widgets/base",
            "_view_module_version": "1.2.0",
            "_view_name": "StyleView",
            "description_width": "",
            "handle_color": null
          }
        },
        "a607049662294a71a6aa42790d6367aa": {
          "model_module": "@jupyter-widgets/base",
          "model_name": "LayoutModel",
          "model_module_version": "1.2.0",
          "state": {
            "_model_module": "@jupyter-widgets/base",
            "_model_module_version": "1.2.0",
            "_model_name": "LayoutModel",
            "_view_count": null,
            "_view_module": "@jupyter-widgets/base",
            "_view_module_version": "1.2.0",
            "_view_name": "LayoutView",
            "align_content": null,
            "align_items": null,
            "align_self": null,
            "border": null,
            "bottom": null,
            "display": null,
            "flex": null,
            "flex_flow": null,
            "grid_area": null,
            "grid_auto_columns": null,
            "grid_auto_flow": null,
            "grid_auto_rows": null,
            "grid_column": null,
            "grid_gap": null,
            "grid_row": null,
            "grid_template_areas": null,
            "grid_template_columns": null,
            "grid_template_rows": null,
            "height": null,
            "justify_content": null,
            "justify_items": null,
            "left": null,
            "margin": null,
            "max_height": null,
            "max_width": null,
            "min_height": null,
            "min_width": null,
            "object_fit": null,
            "object_position": null,
            "order": null,
            "overflow": null,
            "overflow_x": null,
            "overflow_y": null,
            "padding": null,
            "right": null,
            "top": null,
            "visibility": null,
            "width": null
          }
        },
        "8aa7f7751079467e9f7f59e4fa70a7e5": {
          "model_module": "@jupyter-widgets/controls",
          "model_name": "VBoxModel",
          "model_module_version": "1.5.0",
          "state": {
            "_dom_classes": [
              "widget-interact"
            ],
            "_model_module": "@jupyter-widgets/controls",
            "_model_module_version": "1.5.0",
            "_model_name": "VBoxModel",
            "_view_count": null,
            "_view_module": "@jupyter-widgets/controls",
            "_view_module_version": "1.5.0",
            "_view_name": "VBoxView",
            "box_style": "",
            "children": [
              "IPY_MODEL_1a3c18f6164a4d5bb83b597f2e85d654",
              "IPY_MODEL_a584bdd7cc0c406baf48750b64fa2033",
              "IPY_MODEL_379578c5e0c04b7d908d657005075da4"
            ],
            "layout": "IPY_MODEL_41c73847002741d3bfc8d3a0ab4f3aa6"
          }
        },
        "1a3c18f6164a4d5bb83b597f2e85d654": {
          "model_module": "@jupyter-widgets/controls",
          "model_name": "FloatSliderModel",
          "model_module_version": "1.5.0",
          "state": {
            "_dom_classes": [],
            "_model_module": "@jupyter-widgets/controls",
            "_model_module_version": "1.5.0",
            "_model_name": "FloatSliderModel",
            "_view_count": null,
            "_view_module": "@jupyter-widgets/controls",
            "_view_module_version": "1.5.0",
            "_view_name": "FloatSliderView",
            "continuous_update": true,
            "description": "p",
            "description_tooltip": null,
            "disabled": false,
            "layout": "IPY_MODEL_c6c632a4ab15450bab964daf357785d6",
            "max": 0.2,
            "min": 0,
            "orientation": "horizontal",
            "readout": true,
            "readout_format": ".2f",
            "step": 0.001,
            "style": "IPY_MODEL_33c104899ee34063b3069e61489299ea",
            "value": 0.001
          }
        },
        "a584bdd7cc0c406baf48750b64fa2033": {
          "model_module": "@jupyter-widgets/controls",
          "model_name": "FloatSliderModel",
          "model_module_version": "1.5.0",
          "state": {
            "_dom_classes": [],
            "_model_module": "@jupyter-widgets/controls",
            "_model_module_version": "1.5.0",
            "_model_name": "FloatSliderModel",
            "_view_count": null,
            "_view_module": "@jupyter-widgets/controls",
            "_view_module_version": "1.5.0",
            "_view_name": "FloatSliderView",
            "continuous_update": true,
            "description": "q_max",
            "description_tooltip": null,
            "disabled": false,
            "layout": "IPY_MODEL_ba4a55e243464a4cac0b840afd54ba45",
            "max": 1,
            "min": 0,
            "orientation": "horizontal",
            "readout": true,
            "readout_format": ".2f",
            "step": 0.1,
            "style": "IPY_MODEL_5918cbf3a46e44239a8b15d0750e5ac3",
            "value": 0.4
          }
        },
        "379578c5e0c04b7d908d657005075da4": {
          "model_module": "@jupyter-widgets/output",
          "model_name": "OutputModel",
          "model_module_version": "1.0.0",
          "state": {
            "_dom_classes": [],
            "_model_module": "@jupyter-widgets/output",
            "_model_module_version": "1.0.0",
            "_model_name": "OutputModel",
            "_view_count": null,
            "_view_module": "@jupyter-widgets/output",
            "_view_module_version": "1.0.0",
            "_view_name": "OutputView",
            "layout": "IPY_MODEL_de52fcbfd47644c58703b0bd9b47954a",
            "msg_id": "",
            "outputs": [
              {
                "output_type": "stream",
                "name": "stdout",
                "text": [
                  "#points: 10\n"
                ]
              },
              {
                "output_type": "display_data",
                "data": {
                  "text/plain": "<Figure size 432x288 with 1 Axes>",
                  "image/png": "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\n"
                },
                "metadata": {
                  "needs_background": "light"
                }
              }
            ]
          }
        },
        "41c73847002741d3bfc8d3a0ab4f3aa6": {
          "model_module": "@jupyter-widgets/base",
          "model_name": "LayoutModel",
          "model_module_version": "1.2.0",
          "state": {
            "_model_module": "@jupyter-widgets/base",
            "_model_module_version": "1.2.0",
            "_model_name": "LayoutModel",
            "_view_count": null,
            "_view_module": "@jupyter-widgets/base",
            "_view_module_version": "1.2.0",
            "_view_name": "LayoutView",
            "align_content": null,
            "align_items": null,
            "align_self": null,
            "border": null,
            "bottom": null,
            "display": null,
            "flex": null,
            "flex_flow": null,
            "grid_area": null,
            "grid_auto_columns": null,
            "grid_auto_flow": null,
            "grid_auto_rows": null,
            "grid_column": null,
            "grid_gap": null,
            "grid_row": null,
            "grid_template_areas": null,
            "grid_template_columns": null,
            "grid_template_rows": null,
            "height": null,
            "justify_content": null,
            "justify_items": null,
            "left": null,
            "margin": null,
            "max_height": null,
            "max_width": null,
            "min_height": null,
            "min_width": null,
            "object_fit": null,
            "object_position": null,
            "order": null,
            "overflow": null,
            "overflow_x": null,
            "overflow_y": null,
            "padding": null,
            "right": null,
            "top": null,
            "visibility": null,
            "width": null
          }
        },
        "c6c632a4ab15450bab964daf357785d6": {
          "model_module": "@jupyter-widgets/base",
          "model_name": "LayoutModel",
          "model_module_version": "1.2.0",
          "state": {
            "_model_module": "@jupyter-widgets/base",
            "_model_module_version": "1.2.0",
            "_model_name": "LayoutModel",
            "_view_count": null,
            "_view_module": "@jupyter-widgets/base",
            "_view_module_version": "1.2.0",
            "_view_name": "LayoutView",
            "align_content": null,
            "align_items": null,
            "align_self": null,
            "border": null,
            "bottom": null,
            "display": null,
            "flex": null,
            "flex_flow": null,
            "grid_area": null,
            "grid_auto_columns": null,
            "grid_auto_flow": null,
            "grid_auto_rows": null,
            "grid_column": null,
            "grid_gap": null,
            "grid_row": null,
            "grid_template_areas": null,
            "grid_template_columns": null,
            "grid_template_rows": null,
            "height": null,
            "justify_content": null,
            "justify_items": null,
            "left": null,
            "margin": null,
            "max_height": null,
            "max_width": null,
            "min_height": null,
            "min_width": null,
            "object_fit": null,
            "object_position": null,
            "order": null,
            "overflow": null,
            "overflow_x": null,
            "overflow_y": null,
            "padding": null,
            "right": null,
            "top": null,
            "visibility": null,
            "width": null
          }
        },
        "33c104899ee34063b3069e61489299ea": {
          "model_module": "@jupyter-widgets/controls",
          "model_name": "SliderStyleModel",
          "model_module_version": "1.5.0",
          "state": {
            "_model_module": "@jupyter-widgets/controls",
            "_model_module_version": "1.5.0",
            "_model_name": "SliderStyleModel",
            "_view_count": null,
            "_view_module": "@jupyter-widgets/base",
            "_view_module_version": "1.2.0",
            "_view_name": "StyleView",
            "description_width": "",
            "handle_color": null
          }
        },
        "ba4a55e243464a4cac0b840afd54ba45": {
          "model_module": "@jupyter-widgets/base",
          "model_name": "LayoutModel",
          "model_module_version": "1.2.0",
          "state": {
            "_model_module": "@jupyter-widgets/base",
            "_model_module_version": "1.2.0",
            "_model_name": "LayoutModel",
            "_view_count": null,
            "_view_module": "@jupyter-widgets/base",
            "_view_module_version": "1.2.0",
            "_view_name": "LayoutView",
            "align_content": null,
            "align_items": null,
            "align_self": null,
            "border": null,
            "bottom": null,
            "display": null,
            "flex": null,
            "flex_flow": null,
            "grid_area": null,
            "grid_auto_columns": null,
            "grid_auto_flow": null,
            "grid_auto_rows": null,
            "grid_column": null,
            "grid_gap": null,
            "grid_row": null,
            "grid_template_areas": null,
            "grid_template_columns": null,
            "grid_template_rows": null,
            "height": null,
            "justify_content": null,
            "justify_items": null,
            "left": null,
            "margin": null,
            "max_height": null,
            "max_width": null,
            "min_height": null,
            "min_width": null,
            "object_fit": null,
            "object_position": null,
            "order": null,
            "overflow": null,
            "overflow_x": null,
            "overflow_y": null,
            "padding": null,
            "right": null,
            "top": null,
            "visibility": null,
            "width": null
          }
        },
        "5918cbf3a46e44239a8b15d0750e5ac3": {
          "model_module": "@jupyter-widgets/controls",
          "model_name": "SliderStyleModel",
          "model_module_version": "1.5.0",
          "state": {
            "_model_module": "@jupyter-widgets/controls",
            "_model_module_version": "1.5.0",
            "_model_name": "SliderStyleModel",
            "_view_count": null,
            "_view_module": "@jupyter-widgets/base",
            "_view_module_version": "1.2.0",
            "_view_name": "StyleView",
            "description_width": "",
            "handle_color": null
          }
        },
        "de52fcbfd47644c58703b0bd9b47954a": {
          "model_module": "@jupyter-widgets/base",
          "model_name": "LayoutModel",
          "model_module_version": "1.2.0",
          "state": {
            "_model_module": "@jupyter-widgets/base",
            "_model_module_version": "1.2.0",
            "_model_name": "LayoutModel",
            "_view_count": null,
            "_view_module": "@jupyter-widgets/base",
            "_view_module_version": "1.2.0",
            "_view_name": "LayoutView",
            "align_content": null,
            "align_items": null,
            "align_self": null,
            "border": null,
            "bottom": null,
            "display": null,
            "flex": null,
            "flex_flow": null,
            "grid_area": null,
            "grid_auto_columns": null,
            "grid_auto_flow": null,
            "grid_auto_rows": null,
            "grid_column": null,
            "grid_gap": null,
            "grid_row": null,
            "grid_template_areas": null,
            "grid_template_columns": null,
            "grid_template_rows": null,
            "height": null,
            "justify_content": null,
            "justify_items": null,
            "left": null,
            "margin": null,
            "max_height": null,
            "max_width": null,
            "min_height": null,
            "min_width": null,
            "object_fit": null,
            "object_position": null,
            "order": null,
            "overflow": null,
            "overflow_x": null,
            "overflow_y": null,
            "padding": null,
            "right": null,
            "top": null,
            "visibility": null,
            "width": null
          }
        }
      }
    }
  },
  "cells": [
    {
      "cell_type": "markdown",
      "metadata": {
        "id": "view-in-github",
        "colab_type": "text"
      },
      "source": [
        "<a href=\"https://colab.research.google.com/github/andresdp/things-blockchain/blob/main/nakamoto_calculations.ipynb\" target=\"_parent\"><img src=\"https://colab.research.google.com/assets/colab-badge.svg\" alt=\"Open In Colab\"/></a>"
      ]
    },
    {
      "cell_type": "markdown",
      "source": [
        "Source: \"Bitcoin: A peer-to-peer electronic cash system\" Satoshi Nakamoto - [link](https://bitcoin.org/bitcoin.pdf)"
      ],
      "metadata": {
        "id": "GGwKF-OdZnUr"
      }
    },
    {
      "cell_type": "code",
      "source": [
        "# Game (race) between the honest chain and an attacker chain, which can be \n",
        "# characterizes as a binomial random walk\n",
        "# Casted as a Gambler's Ruin problem:\n",
        "# p: probability an honest node finds the next block\n",
        "# q: (1-p) probability the attacker finds the next block\n",
        "# z: nombre of blocks being linked after a given block\n",
        "import math\n",
        "\n",
        "# Attacker's probability of success\n",
        "def compute_attacker_success_probability(q, z): \n",
        "  p = 1 - q\n",
        "  lambda_ = z * (q/p) # attacker's potential progress, according to a Poisson distribution\n",
        "  sum = 1.0\n",
        "  for k in range(0,z+1):\n",
        "    poisson = math.exp(-lambda_)\n",
        "    for i in range (1,k+1):\n",
        "      poisson *= lambda_/i\n",
        "    sum -= poisson * (1 - math.pow(q/p, z-k))\n",
        "\n",
        "  return sum"
      ],
      "metadata": {
        "id": "x1G5faCmT6C3"
      },
      "execution_count": 1,
      "outputs": []
    },
    {
      "cell_type": "code",
      "source": [
        "# A simple calculation\n",
        "q = 0.1\n",
        "for z in range(0,11):\n",
        "  prob_success = compute_attacker_success_probability(q,z)\n",
        "  print(\"q= {:.2f}\".format(q),\"z=\", z, \"\\tP= {:.8f}\".format(prob_success))"
      ],
      "metadata": {
        "colab": {
          "base_uri": "https://localhost:8080/"
        },
        "id": "OFdie2C_U0RQ",
        "outputId": "39f41f0d-0da3-449b-d952-253b558dccb9"
      },
      "execution_count": 2,
      "outputs": [
        {
          "output_type": "stream",
          "name": "stdout",
          "text": [
            "q= 0.10 z= 0 \tP= 1.00000000\n",
            "q= 0.10 z= 1 \tP= 0.20458727\n",
            "q= 0.10 z= 2 \tP= 0.05097789\n",
            "q= 0.10 z= 3 \tP= 0.01317224\n",
            "q= 0.10 z= 4 \tP= 0.00345524\n",
            "q= 0.10 z= 5 \tP= 0.00091368\n",
            "q= 0.10 z= 6 \tP= 0.00024280\n",
            "q= 0.10 z= 7 \tP= 0.00006474\n",
            "q= 0.10 z= 8 \tP= 0.00001730\n",
            "q= 0.10 z= 9 \tP= 0.00000463\n",
            "q= 0.10 z= 10 \tP= 0.00000124\n"
          ]
        }
      ]
    },
    {
      "cell_type": "code",
      "source": [
        "#from __future__ import print_function\n",
        "from ipywidgets import interact, interactive\n",
        "import ipywidgets as widgets\n",
        "\n",
        "import matplotlib.pyplot as plt\n",
        "import numpy as np"
      ],
      "metadata": {
        "id": "ElPoPhYrdx0z"
      },
      "execution_count": 3,
      "outputs": []
    },
    {
      "cell_type": "code",
      "source": [
        "# A more interactive calculation\n",
        "def f(q,z):\n",
        "  prob_success = compute_attacker_success_probability(q,z)\n",
        "  print(\"P= {:.8f}\".format(prob_success))\n",
        "\n",
        "widgets.interact(f, \n",
        "         q=widgets.FloatSlider(min=0.1, max=0.5, step=0.05, value=0.2), \n",
        "         z=widgets.IntSlider(min=0, max=20, step=1, value=1));"
      ],
      "metadata": {
        "colab": {
          "base_uri": "https://localhost:8080/",
          "height": 98,
          "referenced_widgets": [
            "849ff61e8815451eb7bb27d9dd6481ff",
            "f4250ff752f54b43a40c65d1f472e8c9",
            "d824ecee3a5c4abaa41c14079b90dd62",
            "6199a285399b49ed95aee1936645e193",
            "20bf23e089ed44e195fe06b207dbf1fc",
            "df0e7f3e9ad94581b768b040caeee56d",
            "2bffb15165d7407e940e63ec02f3e377",
            "f67ab08f8d524852971e06d7581b13da",
            "d3e06c9ea6914771954e37ded47d34dc",
            "a3566b474d83465b9d688a52b112cea8"
          ]
        },
        "id": "yGpKK37Ad2IQ",
        "outputId": "748b16d9-38a6-4366-f0e8-e86c49334ffe"
      },
      "execution_count": 4,
      "outputs": [
        {
          "output_type": "display_data",
          "data": {
            "text/plain": [
              "interactive(children=(FloatSlider(value=0.2, description='q', max=0.5, min=0.1, step=0.05), IntSlider(value=1,…"
            ],
            "application/vnd.jupyter.widget-view+json": {
              "version_major": 2,
              "version_minor": 0,
              "model_id": "849ff61e8815451eb7bb27d9dd6481ff"
            }
          },
          "metadata": {}
        }
      ]
    },
    {
      "cell_type": "code",
      "source": [
        "# A visualization of the evolution of p (when q and z are fixed)\n",
        "def attacker_success_probability_plot(q, z_max):\n",
        "  plt.figure(2)\n",
        "  z = np.linspace(0, z_max, num=z_max+1)\n",
        "  #print(z)\n",
        "  prob_success = []\n",
        "  for i in z:\n",
        "    #print(int(i),q)\n",
        "    prob_success.append(compute_attacker_success_probability(q,int(i)))\n",
        "\n",
        "  plt.ylim(0,1)\n",
        "  plt.axvline(color='black')\n",
        "  plt.axhline(color='black')\n",
        "  plt.plot(z, prob_success, lw=5,color='red')\n",
        "  plt.ylabel(\"p\")\n",
        "  plt.xlabel(\"z\")\n",
        "  plt.title(\"Evolution of probability of attacker's success\")\n",
        "  plt.grid()\n",
        "  plt.show()\n",
        "\n",
        "attacker_success_probability_plot(0.1,10)"
      ],
      "metadata": {
        "colab": {
          "base_uri": "https://localhost:8080/",
          "height": 295
        },
        "id": "nDQnTm-Lqapf",
        "outputId": "83cb08ee-dbe5-4d27-e0ec-d0bf731e0b42"
      },
      "execution_count": 5,
      "outputs": [
        {
          "output_type": "display_data",
          "data": {
            "text/plain": [
              "<Figure size 432x288 with 1 Axes>"
            ],
            "image/png": "[encoded data removed]"
          },
          "metadata": {
            "needs_background": "light"
          }
        }
      ]
    },
    {
      "cell_type": "code",
      "source": [
        "# Now the interactive visualization\n",
        "widgets.interact(attacker_success_probability_plot, \n",
        "         q=widgets.FloatSlider(min=0.1, max=0.5, step=0.05, value=0.2), \n",
        "         z_max=widgets.IntSlider(min=0, max=20, step=1, value=10));"
      ],
      "metadata": {
        "colab": {
          "base_uri": "https://localhost:8080/",
          "height": 359,
          "referenced_widgets": [
            "886af84681e24740b93df4f21dbe1d28",
            "6e07b35726144da7b7823a21f163d460",
            "2a1e311a3d8347e780f1d46f5ac48874",
            "e4860eb9502648cd9aacc04fe826e402",
            "8d87279b5e0445f09cfb24ca4c98ad64",
            "9aa1adf5495b4dd99327e6b0ae038b8e",
            "6808677181f14e7c8e19a1fef53feefe",
            "6e1d283af46a4fec988563aac25e4108",
            "684f0f070c4740f1b2c62a8cc957f238",
            "a607049662294a71a6aa42790d6367aa"
          ]
        },
        "id": "zGwHxifTs-we",
        "outputId": "3d9252d1-4dcd-45d7-8e6a-9c83cc6a0429"
      },
      "execution_count": 6,
      "outputs": [
        {
          "output_type": "display_data",
          "data": {
            "text/plain": [
              "interactive(children=(FloatSlider(value=0.2, description='q', max=0.5, min=0.1, step=0.05), IntSlider(value=10…"
            ],
            "application/vnd.jupyter.widget-view+json": {
              "version_major": 2,
              "version_minor": 0,
              "model_id": "886af84681e24740b93df4f21dbe1d28"
            }
          },
          "metadata": {}
        }
      ]
    },
    {
      "cell_type": "code",
      "source": [
        "import numpy as np\n",
        "\n",
        "# Finding the minimum z (number of blocks) for a merchant to counteract the attacker's probability of success\n",
        "def compute_minimum_z_for_merchant(prob, q_num=20, q_max=1.0, z_max=200, tolerance=0.0001):\n",
        "\n",
        "  q_values = []\n",
        "  z_values = []\n",
        "\n",
        "  q_range = np.linspace(0, q_max, num=q_num+1)\n",
        "  for q in q_range:\n",
        "    min_z = z_max+1\n",
        "    for z in range(0,z_max+1):\n",
        "      p = compute_attacker_success_probability(q,z)\n",
        "      if (p > 0) and (p <= 1.0) and (abs(p - prob) < tolerance):\n",
        "        if z < min_z:\n",
        "          min_z = z\n",
        "          break\n",
        "    \n",
        "    p = compute_attacker_success_probability(q,min_z)\n",
        "    if (p > 0) and (min_z <= z_max):\n",
        "      q_values.append(q)\n",
        "      z_values.append(min_z)\n",
        "      #print(prob,p, q, min_z)\n",
        "      #print(\"=====\")\n",
        "\n",
        "  return q_values, z_values\n",
        "\n",
        "compute_minimum_z_for_merchant(0.02, tolerance=0.001)"
      ],
      "metadata": {
        "colab": {
          "base_uri": "https://localhost:8080/"
        },
        "id": "PcfVOvxA0lt9",
        "outputId": "a3acaf2f-4194-42fc-aceb-aab66e9661b5"
      },
      "execution_count": 7,
      "outputs": [
        {
          "output_type": "stream",
          "name": "stderr",
          "text": [
            "/usr/local/lib/python3.7/dist-packages/ipykernel_launcher.py:12: RuntimeWarning: divide by zero encountered in double_scalars\n",
            "  if sys.path[0] == '':\n",
            "/usr/local/lib/python3.7/dist-packages/ipykernel_launcher.py:12: RuntimeWarning: invalid value encountered in double_scalars\n",
            "  if sys.path[0] == '':\n",
            "/usr/local/lib/python3.7/dist-packages/ipykernel_launcher.py:18: RuntimeWarning: divide by zero encountered in double_scalars\n",
            "/usr/local/lib/python3.7/dist-packages/ipykernel_launcher.py:17: RuntimeWarning: invalid value encountered in double_scalars\n"
          ]
        },
        {
          "output_type": "execute_result",
          "data": {
            "text/plain": [
              "([0.25, 0.35000000000000003, 0.4, 0.45], [8, 22, 48, 181])"
            ]
          },
          "metadata": {},
          "execution_count": 7
        }
      ]
    },
    {
      "cell_type": "code",
      "source": [
        "import matplotlib.pyplot as plt\n",
        "\n",
        "# A visualization of the evolution of the minimum z \n",
        "def minimum_z_value_for_merchant_plot(p, q_max=1.0):\n",
        "\n",
        "  q_values, z_min_values = compute_minimum_z_for_merchant(p, q_num=20, q_max=q_max, tolerance=p/10)\n",
        "  #print(q_values, z_min_values)\n",
        "  print(\"#points:\", len(q_values))\n",
        "\n",
        "  plt.figure(2)\n",
        "\n",
        "  plt.axvline(color='black')\n",
        "  plt.axhline(color='black')\n",
        "  plt.scatter(q_values, z_min_values, lw=5,color='blue')\n",
        "  plt.xlabel(\"q\")\n",
        "  plt.ylabel(\"min z\")\n",
        "  plt.title(\"Merchant's minimum z to deal with attacker (p= \"+str(p)+\")\")\n",
        "  plt.grid()\n",
        "  plt.show()\n",
        "\n",
        "minimum_z_value_for_merchant_plot(0.001, q_max=1.0)"
      ],
      "metadata": {
        "colab": {
          "base_uri": "https://localhost:8080/",
          "height": 417
        },
        "id": "m5inkbViEbtO",
        "outputId": "7c53c0b9-abd1-492c-a57b-3aa4d0ba086a"
      },
      "execution_count": 8,
      "outputs": [
        {
          "output_type": "stream",
          "name": "stderr",
          "text": [
            "/usr/local/lib/python3.7/dist-packages/ipykernel_launcher.py:12: RuntimeWarning: divide by zero encountered in double_scalars\n",
            "  if sys.path[0] == '':\n",
            "/usr/local/lib/python3.7/dist-packages/ipykernel_launcher.py:12: RuntimeWarning: invalid value encountered in double_scalars\n",
            "  if sys.path[0] == '':\n",
            "/usr/local/lib/python3.7/dist-packages/ipykernel_launcher.py:18: RuntimeWarning: divide by zero encountered in double_scalars\n",
            "/usr/local/lib/python3.7/dist-packages/ipykernel_launcher.py:17: RuntimeWarning: invalid value encountered in double_scalars\n"
          ]
        },
        {
          "output_type": "stream",
          "name": "stdout",
          "text": [
            "#points: 7\n"
          ]
        },
        {
          "output_type": "display_data",
          "data": {
            "text/plain": [
              "<Figure size 432x288 with 1 Axes>"
            ],
            "image/png": "[encoded data removed]"
          },
          "metadata": {
            "needs_background": "light"
          }
        }
      ]
    },
    {
      "cell_type": "code",
      "source": [
        "# Now the interactive visualization\n",
        "widgets.interact(minimum_z_value_for_merchant_plot, \n",
        "         p=widgets.FloatSlider(min=0.0, max=0.2, step=0.001, value=0.001), \n",
        "         q_max=widgets.FloatSlider(min=0, max=1.0, step=0.1, value=0.4));"
      ],
      "metadata": {
        "colab": {
          "base_uri": "https://localhost:8080/",
          "height": 376,
          "referenced_widgets": [
            "8aa7f7751079467e9f7f59e4fa70a7e5",
            "1a3c18f6164a4d5bb83b597f2e85d654",
            "a584bdd7cc0c406baf48750b64fa2033",
            "379578c5e0c04b7d908d657005075da4",
            "41c73847002741d3bfc8d3a0ab4f3aa6",
            "c6c632a4ab15450bab964daf357785d6",
            "33c104899ee34063b3069e61489299ea",
            "ba4a55e243464a4cac0b840afd54ba45",
            "5918cbf3a46e44239a8b15d0750e5ac3",
            "de52fcbfd47644c58703b0bd9b47954a"
          ]
        },
        "id": "mPn9E5ryIFnS",
        "outputId": "ebd0abda-b21c-4866-85fe-516f58b18d4a"
      },
      "execution_count": 9,
      "outputs": [
        {
          "output_type": "display_data",
          "data": {
            "text/plain": [
              "interactive(children=(FloatSlider(value=0.001, description='p', max=0.2, step=0.001), FloatSlider(value=0.4, d…"
            ],
            "application/vnd.jupyter.widget-view+json": {
              "version_major": 2,
              "version_minor": 0,
              "model_id": "8aa7f7751079467e9f7f59e4fa70a7e5"
            }
          },
          "metadata": {}
        }
      ]
    },
    {
      "cell_type": "code",
      "source": [
        "from ipywidgets import Widget\n",
        "Widget.close_all()"
      ],
      "metadata": {
        "id": "AfIulEc2_Rju"
      },
      "execution_count": 10,
      "outputs": []
    },
    {
      "cell_type": "markdown",
      "source": [
        "---"
      ],
      "metadata": {
        "id": "_QvtxlSmI7Hw"
      }
    }
  ]
}